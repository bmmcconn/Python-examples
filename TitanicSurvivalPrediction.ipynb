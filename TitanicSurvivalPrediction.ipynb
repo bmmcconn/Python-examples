{
  "nbformat": 4,
  "nbformat_minor": 0,
  "metadata": {
    "colab": {
      "name": "TitanicSurvivalPrediction.ipynb",
      "provenance": [],
      "collapsed_sections": [],
      "authorship_tag": "ABX9TyMAGUr9LOtQWZuLix28Pad3"
    },
    "kernelspec": {
      "name": "python3",
      "display_name": "Python 3"
    }
  },
  "cells": [
    {
      "cell_type": "markdown",
      "metadata": {
        "id": "QZnTmbOpIkLH",
        "colab_type": "text"
      },
      "source": [
        "# Titanic Dataset"
      ]
    },
    {
      "cell_type": "code",
      "metadata": {
        "id": "CcyWSijDIc9Y",
        "colab_type": "code",
        "colab": {}
      },
      "source": [
        "import pandas as pd\n",
        "import numpy as np\n",
        "import matplotlib.pyplot as plt\n",
        "\n",
        "pd.set_option('display.max_rows', 20)"
      ],
      "execution_count": 0,
      "outputs": []
    },
    {
      "cell_type": "code",
      "metadata": {
        "id": "axpgOz0uIiAp",
        "colab_type": "code",
        "colab": {}
      },
      "source": [
        "# Data Sources\n",
        "titanic_train_url = 'https://raw.githubusercontent.com/agconti/kaggle-titanic/master/data/train.csv'\n",
        "titanic_test_url = 'https://raw.githubusercontent.com/agconti/kaggle-titanic/master/data/test.csv'"
      ],
      "execution_count": 0,
      "outputs": []
    },
    {
      "cell_type": "code",
      "metadata": {
        "id": "yaHa96nlJFDr",
        "colab_type": "code",
        "colab": {}
      },
      "source": [
        "fill_nans = {\n",
        "    'Cabin': '',\n",
        "    'Embarked': 'NoVal'\n",
        "}\n",
        "\n",
        "df_train = pd.read_csv(titanic_train_url)\n",
        "df_test = pd.read_csv(titanic_test_url)\n",
        "\n",
        "df_train.fillna(value=fill_nans, inplace=True)\n",
        "df_test.fillna(value=fill_nans, inplace=True)"
      ],
      "execution_count": 0,
      "outputs": []
    },
    {
      "cell_type": "code",
      "metadata": {
        "id": "100kVTjOJb1v",
        "colab_type": "code",
        "outputId": "d026a852-be6c-423b-bf6a-7dc2f96f19dd",
        "colab": {
          "base_uri": "https://localhost:8080/",
          "height": 366
        }
      },
      "source": [
        "df_train.info()"
      ],
      "execution_count": 4,
      "outputs": [
        {
          "output_type": "stream",
          "text": [
            "<class 'pandas.core.frame.DataFrame'>\n",
            "RangeIndex: 891 entries, 0 to 890\n",
            "Data columns (total 12 columns):\n",
            " #   Column       Non-Null Count  Dtype  \n",
            "---  ------       --------------  -----  \n",
            " 0   PassengerId  891 non-null    int64  \n",
            " 1   Survived     891 non-null    int64  \n",
            " 2   Pclass       891 non-null    int64  \n",
            " 3   Name         891 non-null    object \n",
            " 4   Sex          891 non-null    object \n",
            " 5   Age          714 non-null    float64\n",
            " 6   SibSp        891 non-null    int64  \n",
            " 7   Parch        891 non-null    int64  \n",
            " 8   Ticket       891 non-null    object \n",
            " 9   Fare         891 non-null    float64\n",
            " 10  Cabin        891 non-null    object \n",
            " 11  Embarked     891 non-null    object \n",
            "dtypes: float64(2), int64(5), object(5)\n",
            "memory usage: 83.7+ KB\n"
          ],
          "name": "stdout"
        }
      ]
    },
    {
      "cell_type": "code",
      "metadata": {
        "id": "r_vQ6fvOJjDl",
        "colab_type": "code",
        "outputId": "05bddef2-b853-4d67-ff51-4d732c183eb6",
        "colab": {
          "base_uri": "https://localhost:8080/",
          "height": 363
        }
      },
      "source": [
        "df_train.head(10)"
      ],
      "execution_count": 5,
      "outputs": [
        {
          "output_type": "execute_result",
          "data": {
            "text/html": [
              "<div>\n",
              "<style scoped>\n",
              "    .dataframe tbody tr th:only-of-type {\n",
              "        vertical-align: middle;\n",
              "    }\n",
              "\n",
              "    .dataframe tbody tr th {\n",
              "        vertical-align: top;\n",
              "    }\n",
              "\n",
              "    .dataframe thead th {\n",
              "        text-align: right;\n",
              "    }\n",
              "</style>\n",
              "<table border=\"1\" class=\"dataframe\">\n",
              "  <thead>\n",
              "    <tr style=\"text-align: right;\">\n",
              "      <th></th>\n",
              "      <th>PassengerId</th>\n",
              "      <th>Survived</th>\n",
              "      <th>Pclass</th>\n",
              "      <th>Name</th>\n",
              "      <th>Sex</th>\n",
              "      <th>Age</th>\n",
              "      <th>SibSp</th>\n",
              "      <th>Parch</th>\n",
              "      <th>Ticket</th>\n",
              "      <th>Fare</th>\n",
              "      <th>Cabin</th>\n",
              "      <th>Embarked</th>\n",
              "    </tr>\n",
              "  </thead>\n",
              "  <tbody>\n",
              "    <tr>\n",
              "      <th>0</th>\n",
              "      <td>1</td>\n",
              "      <td>0</td>\n",
              "      <td>3</td>\n",
              "      <td>Braund, Mr. Owen Harris</td>\n",
              "      <td>male</td>\n",
              "      <td>22.0</td>\n",
              "      <td>1</td>\n",
              "      <td>0</td>\n",
              "      <td>A/5 21171</td>\n",
              "      <td>7.2500</td>\n",
              "      <td></td>\n",
              "      <td>S</td>\n",
              "    </tr>\n",
              "    <tr>\n",
              "      <th>1</th>\n",
              "      <td>2</td>\n",
              "      <td>1</td>\n",
              "      <td>1</td>\n",
              "      <td>Cumings, Mrs. John Bradley (Florence Briggs Th...</td>\n",
              "      <td>female</td>\n",
              "      <td>38.0</td>\n",
              "      <td>1</td>\n",
              "      <td>0</td>\n",
              "      <td>PC 17599</td>\n",
              "      <td>71.2833</td>\n",
              "      <td>C85</td>\n",
              "      <td>C</td>\n",
              "    </tr>\n",
              "    <tr>\n",
              "      <th>2</th>\n",
              "      <td>3</td>\n",
              "      <td>1</td>\n",
              "      <td>3</td>\n",
              "      <td>Heikkinen, Miss. Laina</td>\n",
              "      <td>female</td>\n",
              "      <td>26.0</td>\n",
              "      <td>0</td>\n",
              "      <td>0</td>\n",
              "      <td>STON/O2. 3101282</td>\n",
              "      <td>7.9250</td>\n",
              "      <td></td>\n",
              "      <td>S</td>\n",
              "    </tr>\n",
              "    <tr>\n",
              "      <th>3</th>\n",
              "      <td>4</td>\n",
              "      <td>1</td>\n",
              "      <td>1</td>\n",
              "      <td>Futrelle, Mrs. Jacques Heath (Lily May Peel)</td>\n",
              "      <td>female</td>\n",
              "      <td>35.0</td>\n",
              "      <td>1</td>\n",
              "      <td>0</td>\n",
              "      <td>113803</td>\n",
              "      <td>53.1000</td>\n",
              "      <td>C123</td>\n",
              "      <td>S</td>\n",
              "    </tr>\n",
              "    <tr>\n",
              "      <th>4</th>\n",
              "      <td>5</td>\n",
              "      <td>0</td>\n",
              "      <td>3</td>\n",
              "      <td>Allen, Mr. William Henry</td>\n",
              "      <td>male</td>\n",
              "      <td>35.0</td>\n",
              "      <td>0</td>\n",
              "      <td>0</td>\n",
              "      <td>373450</td>\n",
              "      <td>8.0500</td>\n",
              "      <td></td>\n",
              "      <td>S</td>\n",
              "    </tr>\n",
              "    <tr>\n",
              "      <th>5</th>\n",
              "      <td>6</td>\n",
              "      <td>0</td>\n",
              "      <td>3</td>\n",
              "      <td>Moran, Mr. James</td>\n",
              "      <td>male</td>\n",
              "      <td>NaN</td>\n",
              "      <td>0</td>\n",
              "      <td>0</td>\n",
              "      <td>330877</td>\n",
              "      <td>8.4583</td>\n",
              "      <td></td>\n",
              "      <td>Q</td>\n",
              "    </tr>\n",
              "    <tr>\n",
              "      <th>6</th>\n",
              "      <td>7</td>\n",
              "      <td>0</td>\n",
              "      <td>1</td>\n",
              "      <td>McCarthy, Mr. Timothy J</td>\n",
              "      <td>male</td>\n",
              "      <td>54.0</td>\n",
              "      <td>0</td>\n",
              "      <td>0</td>\n",
              "      <td>17463</td>\n",
              "      <td>51.8625</td>\n",
              "      <td>E46</td>\n",
              "      <td>S</td>\n",
              "    </tr>\n",
              "    <tr>\n",
              "      <th>7</th>\n",
              "      <td>8</td>\n",
              "      <td>0</td>\n",
              "      <td>3</td>\n",
              "      <td>Palsson, Master. Gosta Leonard</td>\n",
              "      <td>male</td>\n",
              "      <td>2.0</td>\n",
              "      <td>3</td>\n",
              "      <td>1</td>\n",
              "      <td>349909</td>\n",
              "      <td>21.0750</td>\n",
              "      <td></td>\n",
              "      <td>S</td>\n",
              "    </tr>\n",
              "    <tr>\n",
              "      <th>8</th>\n",
              "      <td>9</td>\n",
              "      <td>1</td>\n",
              "      <td>3</td>\n",
              "      <td>Johnson, Mrs. Oscar W (Elisabeth Vilhelmina Berg)</td>\n",
              "      <td>female</td>\n",
              "      <td>27.0</td>\n",
              "      <td>0</td>\n",
              "      <td>2</td>\n",
              "      <td>347742</td>\n",
              "      <td>11.1333</td>\n",
              "      <td></td>\n",
              "      <td>S</td>\n",
              "    </tr>\n",
              "    <tr>\n",
              "      <th>9</th>\n",
              "      <td>10</td>\n",
              "      <td>1</td>\n",
              "      <td>2</td>\n",
              "      <td>Nasser, Mrs. Nicholas (Adele Achem)</td>\n",
              "      <td>female</td>\n",
              "      <td>14.0</td>\n",
              "      <td>1</td>\n",
              "      <td>0</td>\n",
              "      <td>237736</td>\n",
              "      <td>30.0708</td>\n",
              "      <td></td>\n",
              "      <td>C</td>\n",
              "    </tr>\n",
              "  </tbody>\n",
              "</table>\n",
              "</div>"
            ],
            "text/plain": [
              "   PassengerId  Survived  Pclass  ...     Fare Cabin  Embarked\n",
              "0            1         0       3  ...   7.2500               S\n",
              "1            2         1       1  ...  71.2833   C85         C\n",
              "2            3         1       3  ...   7.9250               S\n",
              "3            4         1       1  ...  53.1000  C123         S\n",
              "4            5         0       3  ...   8.0500               S\n",
              "5            6         0       3  ...   8.4583               Q\n",
              "6            7         0       1  ...  51.8625   E46         S\n",
              "7            8         0       3  ...  21.0750               S\n",
              "8            9         1       3  ...  11.1333               S\n",
              "9           10         1       2  ...  30.0708               C\n",
              "\n",
              "[10 rows x 12 columns]"
            ]
          },
          "metadata": {
            "tags": []
          },
          "execution_count": 5
        }
      ]
    },
    {
      "cell_type": "markdown",
      "metadata": {
        "id": "FiEIR6VzXfs0",
        "colab_type": "text"
      },
      "source": [
        "Check values for categorical variables"
      ]
    },
    {
      "cell_type": "code",
      "metadata": {
        "id": "Vue-_JHHXn1Y",
        "colab_type": "code",
        "outputId": "61ecc839-d652-4e1a-9021-60c68bcad0b2",
        "colab": {
          "base_uri": "https://localhost:8080/",
          "height": 90
        }
      },
      "source": [
        "df_train['Pclass'].value_counts()"
      ],
      "execution_count": 6,
      "outputs": [
        {
          "output_type": "execute_result",
          "data": {
            "text/plain": [
              "3    491\n",
              "1    216\n",
              "2    184\n",
              "Name: Pclass, dtype: int64"
            ]
          },
          "metadata": {
            "tags": []
          },
          "execution_count": 6
        }
      ]
    },
    {
      "cell_type": "code",
      "metadata": {
        "id": "oKCi-0PMX3HJ",
        "colab_type": "code",
        "outputId": "405621d9-b258-4b40-993f-1982c514940a",
        "colab": {
          "base_uri": "https://localhost:8080/",
          "height": 109
        }
      },
      "source": [
        "df_train['Embarked'].value_counts()"
      ],
      "execution_count": 7,
      "outputs": [
        {
          "output_type": "execute_result",
          "data": {
            "text/plain": [
              "S        644\n",
              "C        168\n",
              "Q         77\n",
              "NoVal      2\n",
              "Name: Embarked, dtype: int64"
            ]
          },
          "metadata": {
            "tags": []
          },
          "execution_count": 7
        }
      ]
    },
    {
      "cell_type": "code",
      "metadata": {
        "id": "ewPSCCB1YH49",
        "colab_type": "code",
        "outputId": "29ff9e3d-dc3e-4b73-a76b-c10b7d624016",
        "colab": {
          "base_uri": "https://localhost:8080/",
          "height": 72
        }
      },
      "source": [
        "df_train['Sex'].value_counts()"
      ],
      "execution_count": 8,
      "outputs": [
        {
          "output_type": "execute_result",
          "data": {
            "text/plain": [
              "male      577\n",
              "female    314\n",
              "Name: Sex, dtype: int64"
            ]
          },
          "metadata": {
            "tags": []
          },
          "execution_count": 8
        }
      ]
    },
    {
      "cell_type": "markdown",
      "metadata": {
        "id": "XDD0N4UpN6rg",
        "colab_type": "text"
      },
      "source": [
        "### Survival Rates\n",
        "\n",
        "\n",
        "*   Passenger Class\n",
        "*   Sex\n",
        "*   Family Members Aboard\n",
        "*   Age Bucket\n",
        "\n"
      ]
    },
    {
      "cell_type": "code",
      "metadata": {
        "id": "EK325J7aKaqd",
        "colab_type": "code",
        "outputId": "0dc1ed52-d09e-4a33-c88f-d944f3a2b6e8",
        "colab": {
          "base_uri": "https://localhost:8080/",
          "height": 143
        }
      },
      "source": [
        "(df_train[['Pclass','Survived']].groupby(['Pclass'], as_index=False).mean()\n",
        "    .sort_values(by='Survived', ascending=False))"
      ],
      "execution_count": 9,
      "outputs": [
        {
          "output_type": "execute_result",
          "data": {
            "text/html": [
              "<div>\n",
              "<style scoped>\n",
              "    .dataframe tbody tr th:only-of-type {\n",
              "        vertical-align: middle;\n",
              "    }\n",
              "\n",
              "    .dataframe tbody tr th {\n",
              "        vertical-align: top;\n",
              "    }\n",
              "\n",
              "    .dataframe thead th {\n",
              "        text-align: right;\n",
              "    }\n",
              "</style>\n",
              "<table border=\"1\" class=\"dataframe\">\n",
              "  <thead>\n",
              "    <tr style=\"text-align: right;\">\n",
              "      <th></th>\n",
              "      <th>Pclass</th>\n",
              "      <th>Survived</th>\n",
              "    </tr>\n",
              "  </thead>\n",
              "  <tbody>\n",
              "    <tr>\n",
              "      <th>0</th>\n",
              "      <td>1</td>\n",
              "      <td>0.629630</td>\n",
              "    </tr>\n",
              "    <tr>\n",
              "      <th>1</th>\n",
              "      <td>2</td>\n",
              "      <td>0.472826</td>\n",
              "    </tr>\n",
              "    <tr>\n",
              "      <th>2</th>\n",
              "      <td>3</td>\n",
              "      <td>0.242363</td>\n",
              "    </tr>\n",
              "  </tbody>\n",
              "</table>\n",
              "</div>"
            ],
            "text/plain": [
              "   Pclass  Survived\n",
              "0       1  0.629630\n",
              "1       2  0.472826\n",
              "2       3  0.242363"
            ]
          },
          "metadata": {
            "tags": []
          },
          "execution_count": 9
        }
      ]
    },
    {
      "cell_type": "code",
      "metadata": {
        "id": "ugWLaY1WLnDy",
        "colab_type": "code",
        "outputId": "c051a825-5a6b-431d-8e1f-94ea74e65e5d",
        "colab": {
          "base_uri": "https://localhost:8080/",
          "height": 112
        }
      },
      "source": [
        "(df_train[['Sex','Survived']].groupby(['Sex'], as_index=False).mean()\n",
        "    .sort_values(by='Survived', ascending=False))"
      ],
      "execution_count": 10,
      "outputs": [
        {
          "output_type": "execute_result",
          "data": {
            "text/html": [
              "<div>\n",
              "<style scoped>\n",
              "    .dataframe tbody tr th:only-of-type {\n",
              "        vertical-align: middle;\n",
              "    }\n",
              "\n",
              "    .dataframe tbody tr th {\n",
              "        vertical-align: top;\n",
              "    }\n",
              "\n",
              "    .dataframe thead th {\n",
              "        text-align: right;\n",
              "    }\n",
              "</style>\n",
              "<table border=\"1\" class=\"dataframe\">\n",
              "  <thead>\n",
              "    <tr style=\"text-align: right;\">\n",
              "      <th></th>\n",
              "      <th>Sex</th>\n",
              "      <th>Survived</th>\n",
              "    </tr>\n",
              "  </thead>\n",
              "  <tbody>\n",
              "    <tr>\n",
              "      <th>0</th>\n",
              "      <td>female</td>\n",
              "      <td>0.742038</td>\n",
              "    </tr>\n",
              "    <tr>\n",
              "      <th>1</th>\n",
              "      <td>male</td>\n",
              "      <td>0.188908</td>\n",
              "    </tr>\n",
              "  </tbody>\n",
              "</table>\n",
              "</div>"
            ],
            "text/plain": [
              "      Sex  Survived\n",
              "0  female  0.742038\n",
              "1    male  0.188908"
            ]
          },
          "metadata": {
            "tags": []
          },
          "execution_count": 10
        }
      ]
    },
    {
      "cell_type": "code",
      "metadata": {
        "id": "M8oVUqFKOWKL",
        "colab_type": "code",
        "outputId": "4cd70915-a90f-4909-a2f8-ddde029b4410",
        "colab": {
          "base_uri": "https://localhost:8080/",
          "height": 269
        }
      },
      "source": [
        "(df_train[['SibSp', 'Survived']].groupby(['SibSp'], as_index=False).mean()\n",
        "    .sort_values(by='Survived', ascending=False))"
      ],
      "execution_count": 11,
      "outputs": [
        {
          "output_type": "execute_result",
          "data": {
            "text/html": [
              "<div>\n",
              "<style scoped>\n",
              "    .dataframe tbody tr th:only-of-type {\n",
              "        vertical-align: middle;\n",
              "    }\n",
              "\n",
              "    .dataframe tbody tr th {\n",
              "        vertical-align: top;\n",
              "    }\n",
              "\n",
              "    .dataframe thead th {\n",
              "        text-align: right;\n",
              "    }\n",
              "</style>\n",
              "<table border=\"1\" class=\"dataframe\">\n",
              "  <thead>\n",
              "    <tr style=\"text-align: right;\">\n",
              "      <th></th>\n",
              "      <th>SibSp</th>\n",
              "      <th>Survived</th>\n",
              "    </tr>\n",
              "  </thead>\n",
              "  <tbody>\n",
              "    <tr>\n",
              "      <th>1</th>\n",
              "      <td>1</td>\n",
              "      <td>0.535885</td>\n",
              "    </tr>\n",
              "    <tr>\n",
              "      <th>2</th>\n",
              "      <td>2</td>\n",
              "      <td>0.464286</td>\n",
              "    </tr>\n",
              "    <tr>\n",
              "      <th>0</th>\n",
              "      <td>0</td>\n",
              "      <td>0.345395</td>\n",
              "    </tr>\n",
              "    <tr>\n",
              "      <th>3</th>\n",
              "      <td>3</td>\n",
              "      <td>0.250000</td>\n",
              "    </tr>\n",
              "    <tr>\n",
              "      <th>4</th>\n",
              "      <td>4</td>\n",
              "      <td>0.166667</td>\n",
              "    </tr>\n",
              "    <tr>\n",
              "      <th>5</th>\n",
              "      <td>5</td>\n",
              "      <td>0.000000</td>\n",
              "    </tr>\n",
              "    <tr>\n",
              "      <th>6</th>\n",
              "      <td>8</td>\n",
              "      <td>0.000000</td>\n",
              "    </tr>\n",
              "  </tbody>\n",
              "</table>\n",
              "</div>"
            ],
            "text/plain": [
              "   SibSp  Survived\n",
              "1      1  0.535885\n",
              "2      2  0.464286\n",
              "0      0  0.345395\n",
              "3      3  0.250000\n",
              "4      4  0.166667\n",
              "5      5  0.000000\n",
              "6      8  0.000000"
            ]
          },
          "metadata": {
            "tags": []
          },
          "execution_count": 11
        }
      ]
    },
    {
      "cell_type": "code",
      "metadata": {
        "id": "r49WiSdmPcsS",
        "colab_type": "code",
        "outputId": "f292b5df-c4ec-44c6-a5c9-9e6ea62a939c",
        "colab": {
          "base_uri": "https://localhost:8080/",
          "height": 269
        }
      },
      "source": [
        "(df_train[['Parch', 'Survived']].groupby(['Parch'], as_index=False).mean()\n",
        "    .sort_values(by='Survived', ascending=False))"
      ],
      "execution_count": 12,
      "outputs": [
        {
          "output_type": "execute_result",
          "data": {
            "text/html": [
              "<div>\n",
              "<style scoped>\n",
              "    .dataframe tbody tr th:only-of-type {\n",
              "        vertical-align: middle;\n",
              "    }\n",
              "\n",
              "    .dataframe tbody tr th {\n",
              "        vertical-align: top;\n",
              "    }\n",
              "\n",
              "    .dataframe thead th {\n",
              "        text-align: right;\n",
              "    }\n",
              "</style>\n",
              "<table border=\"1\" class=\"dataframe\">\n",
              "  <thead>\n",
              "    <tr style=\"text-align: right;\">\n",
              "      <th></th>\n",
              "      <th>Parch</th>\n",
              "      <th>Survived</th>\n",
              "    </tr>\n",
              "  </thead>\n",
              "  <tbody>\n",
              "    <tr>\n",
              "      <th>3</th>\n",
              "      <td>3</td>\n",
              "      <td>0.600000</td>\n",
              "    </tr>\n",
              "    <tr>\n",
              "      <th>1</th>\n",
              "      <td>1</td>\n",
              "      <td>0.550847</td>\n",
              "    </tr>\n",
              "    <tr>\n",
              "      <th>2</th>\n",
              "      <td>2</td>\n",
              "      <td>0.500000</td>\n",
              "    </tr>\n",
              "    <tr>\n",
              "      <th>0</th>\n",
              "      <td>0</td>\n",
              "      <td>0.343658</td>\n",
              "    </tr>\n",
              "    <tr>\n",
              "      <th>5</th>\n",
              "      <td>5</td>\n",
              "      <td>0.200000</td>\n",
              "    </tr>\n",
              "    <tr>\n",
              "      <th>4</th>\n",
              "      <td>4</td>\n",
              "      <td>0.000000</td>\n",
              "    </tr>\n",
              "    <tr>\n",
              "      <th>6</th>\n",
              "      <td>6</td>\n",
              "      <td>0.000000</td>\n",
              "    </tr>\n",
              "  </tbody>\n",
              "</table>\n",
              "</div>"
            ],
            "text/plain": [
              "   Parch  Survived\n",
              "3      3  0.600000\n",
              "1      1  0.550847\n",
              "2      2  0.500000\n",
              "0      0  0.343658\n",
              "5      5  0.200000\n",
              "4      4  0.000000\n",
              "6      6  0.000000"
            ]
          },
          "metadata": {
            "tags": []
          },
          "execution_count": 12
        }
      ]
    },
    {
      "cell_type": "code",
      "metadata": {
        "id": "AYQFbRblPs4m",
        "colab_type": "code",
        "outputId": "9bc92295-9306-4ed9-bf99-da8ae216e9ca",
        "colab": {
          "base_uri": "https://localhost:8080/",
          "height": 313
        }
      },
      "source": [
        "age_survived = df_train[df_train['Survived']==1]['Age'].dropna()\n",
        "age_died = df_train[df_train['Survived']!=1]['Age'].dropna()\n",
        "\n",
        "fig, axes = plt.subplots(2, 1, sharex=True, sharey=True)\n",
        "axes[0].hist(age_survived, bins=50, color='b', alpha=0.7)\n",
        "axes[0].set_title('Survived')\n",
        "axes[1].hist(age_died, bins=50, color='r', alpha=0.7)\n",
        "axes[1].set_xlabel('Age')\n",
        "axes[1].set_title('Did Not Survive')\n",
        "print('%d people survived and %d people died' %(age_survived.shape[0],age_died.shape[0]))"
      ],
      "execution_count": 13,
      "outputs": [
        {
          "output_type": "stream",
          "text": [
            "290 people survived and 424 people died\n"
          ],
          "name": "stdout"
        },
        {
          "output_type": "display_data",
          "data": {
            "image/png": "[encoded data removed]",
            "text/plain": [
              "<Figure size 432x288 with 2 Axes>"
            ]
          },
          "metadata": {
            "tags": [],
            "needs_background": "light"
          }
        }
      ]
    },
    {
      "cell_type": "code",
      "metadata": {
        "id": "vupv4Q7aT00K",
        "colab_type": "code",
        "outputId": "8b975052-b4eb-4350-ccb8-80738825307e",
        "colab": {
          "base_uri": "https://localhost:8080/",
          "height": 313
        }
      },
      "source": [
        "age_children_survived = df_train[(df_train['Survived']==1) & (df_train['Age']<=12)]['Age']\n",
        "age_children_died = df_train[(df_train['Survived']!=1) & (df_train['Age']<=12)]['Age']\n",
        "\n",
        "fig, axes = plt.subplots(2, 1, sharex=True, sharey=True)\n",
        "axes[0].hist(age_children_survived, bins=age_children_survived.shape[0], color='b', alpha=0.7)\n",
        "axes[0].set_title('Children Survived')\n",
        "axes[1].hist(age_children_died, bins=age_children_died.shape[0], color='r', alpha=0.7)\n",
        "axes[1].set_xlabel('Age')\n",
        "axes[1].set_title('Children Did Not Survive')\n",
        "print('%d children survived and %d children died' %(age_children_survived.shape[0],age_children_died.shape[0]))"
      ],
      "execution_count": 14,
      "outputs": [
        {
          "output_type": "stream",
          "text": [
            "40 children survived and 29 children died\n"
          ],
          "name": "stdout"
        },
        {
          "output_type": "display_data",
          "data": {
            "image/png": "[encoded data removed]",
            "text/plain": [
              "<Figure size 432x288 with 2 Axes>"
            ]
          },
          "metadata": {
            "tags": [],
            "needs_background": "light"
          }
        }
      ]
    },
    {
      "cell_type": "markdown",
      "metadata": {
        "id": "qrvKRzvUWNmB",
        "colab_type": "text"
      },
      "source": [
        "##Prepare for ML\n",
        "### Prepare Training Set\n"
      ]
    },
    {
      "cell_type": "code",
      "metadata": {
        "id": "kFALcKVky5M1",
        "colab_type": "code",
        "colab": {
          "base_uri": "https://localhost:8080/",
          "height": 366
        },
        "outputId": "27999491-ed16-413d-c28a-26a9de110e39"
      },
      "source": [
        "df_train.info()"
      ],
      "execution_count": 15,
      "outputs": [
        {
          "output_type": "stream",
          "text": [
            "<class 'pandas.core.frame.DataFrame'>\n",
            "RangeIndex: 891 entries, 0 to 890\n",
            "Data columns (total 12 columns):\n",
            " #   Column       Non-Null Count  Dtype  \n",
            "---  ------       --------------  -----  \n",
            " 0   PassengerId  891 non-null    int64  \n",
            " 1   Survived     891 non-null    int64  \n",
            " 2   Pclass       891 non-null    int64  \n",
            " 3   Name         891 non-null    object \n",
            " 4   Sex          891 non-null    object \n",
            " 5   Age          714 non-null    float64\n",
            " 6   SibSp        891 non-null    int64  \n",
            " 7   Parch        891 non-null    int64  \n",
            " 8   Ticket       891 non-null    object \n",
            " 9   Fare         891 non-null    float64\n",
            " 10  Cabin        891 non-null    object \n",
            " 11  Embarked     891 non-null    object \n",
            "dtypes: float64(2), int64(5), object(5)\n",
            "memory usage: 83.7+ KB\n"
          ],
          "name": "stdout"
        }
      ]
    },
    {
      "cell_type": "code",
      "metadata": {
        "id": "HHmrIEUBVuvy",
        "colab_type": "code",
        "colab": {}
      },
      "source": [
        "df_train['Sex'] = df_train['Sex'].map({'male': 0, 'female': 1}).astype(int)\n",
        "df_train['Embarked'] = df_train['Embarked'].map({'NoVal': 0, 'C': 1, 'Q':2, 'S':3}).astype(int)"
      ],
      "execution_count": 0,
      "outputs": []
    },
    {
      "cell_type": "code",
      "metadata": {
        "id": "Xsq6ig2UWMdP",
        "colab_type": "code",
        "outputId": "4cc25f07-e45e-457c-ea3d-726e8651e8ca",
        "colab": {
          "base_uri": "https://localhost:8080/",
          "height": 35
        }
      },
      "source": [
        "print('Number of training data Ages with null values: %d' % np.sum(df_train.Age.isnull()))"
      ],
      "execution_count": 17,
      "outputs": [
        {
          "output_type": "stream",
          "text": [
            "Number of training data Ages with null values: 177\n"
          ],
          "name": "stdout"
        }
      ]
    },
    {
      "cell_type": "markdown",
      "metadata": {
        "id": "p5dqUBQlaaVi",
        "colab_type": "text"
      },
      "source": [
        "Identify median ages for passenger's by class & sex<br>\n",
        "<sub>inspired by @raghav96's [approach](https://github.com/raghav96/datascience/blob/master/Titanic%20Dataset%20Kaggle%20Competition.ipynb)</sub>"
      ]
    },
    {
      "cell_type": "code",
      "metadata": {
        "id": "91gNV8cAdTH0",
        "colab_type": "code",
        "outputId": "0e459fde-8ea6-4a2c-e8ed-a4b3f474fa55",
        "colab": {
          "base_uri": "https://localhost:8080/",
          "height": 269
        }
      },
      "source": [
        "df_train.pivot_table(\n",
        "    index=['Sex', 'Pclass'],\n",
        "    values=['Age'],\n",
        "    aggfunc=np.median\n",
        ")"
      ],
      "execution_count": 18,
      "outputs": [
        {
          "output_type": "execute_result",
          "data": {
            "text/html": [
              "<div>\n",
              "<style scoped>\n",
              "    .dataframe tbody tr th:only-of-type {\n",
              "        vertical-align: middle;\n",
              "    }\n",
              "\n",
              "    .dataframe tbody tr th {\n",
              "        vertical-align: top;\n",
              "    }\n",
              "\n",
              "    .dataframe thead th {\n",
              "        text-align: right;\n",
              "    }\n",
              "</style>\n",
              "<table border=\"1\" class=\"dataframe\">\n",
              "  <thead>\n",
              "    <tr style=\"text-align: right;\">\n",
              "      <th></th>\n",
              "      <th></th>\n",
              "      <th>Age</th>\n",
              "    </tr>\n",
              "    <tr>\n",
              "      <th>Sex</th>\n",
              "      <th>Pclass</th>\n",
              "      <th></th>\n",
              "    </tr>\n",
              "  </thead>\n",
              "  <tbody>\n",
              "    <tr>\n",
              "      <th rowspan=\"3\" valign=\"top\">0</th>\n",
              "      <th>1</th>\n",
              "      <td>40.0</td>\n",
              "    </tr>\n",
              "    <tr>\n",
              "      <th>2</th>\n",
              "      <td>30.0</td>\n",
              "    </tr>\n",
              "    <tr>\n",
              "      <th>3</th>\n",
              "      <td>25.0</td>\n",
              "    </tr>\n",
              "    <tr>\n",
              "      <th rowspan=\"3\" valign=\"top\">1</th>\n",
              "      <th>1</th>\n",
              "      <td>35.0</td>\n",
              "    </tr>\n",
              "    <tr>\n",
              "      <th>2</th>\n",
              "      <td>28.0</td>\n",
              "    </tr>\n",
              "    <tr>\n",
              "      <th>3</th>\n",
              "      <td>21.5</td>\n",
              "    </tr>\n",
              "  </tbody>\n",
              "</table>\n",
              "</div>"
            ],
            "text/plain": [
              "             Age\n",
              "Sex Pclass      \n",
              "0   1       40.0\n",
              "    2       30.0\n",
              "    3       25.0\n",
              "1   1       35.0\n",
              "    2       28.0\n",
              "    3       21.5"
            ]
          },
          "metadata": {
            "tags": []
          },
          "execution_count": 18
        }
      ]
    },
    {
      "cell_type": "code",
      "metadata": {
        "id": "K034MKJndnXt",
        "colab_type": "code",
        "outputId": "a3c1c9d1-ac12-4927-8318-d6ca7cfbf517",
        "colab": {
          "base_uri": "https://localhost:8080/",
          "height": 269
        }
      },
      "source": [
        "df_train.groupby(['Sex', 'Pclass'])[['Age']].aggregate(np.median)"
      ],
      "execution_count": 19,
      "outputs": [
        {
          "output_type": "execute_result",
          "data": {
            "text/html": [
              "<div>\n",
              "<style scoped>\n",
              "    .dataframe tbody tr th:only-of-type {\n",
              "        vertical-align: middle;\n",
              "    }\n",
              "\n",
              "    .dataframe tbody tr th {\n",
              "        vertical-align: top;\n",
              "    }\n",
              "\n",
              "    .dataframe thead th {\n",
              "        text-align: right;\n",
              "    }\n",
              "</style>\n",
              "<table border=\"1\" class=\"dataframe\">\n",
              "  <thead>\n",
              "    <tr style=\"text-align: right;\">\n",
              "      <th></th>\n",
              "      <th></th>\n",
              "      <th>Age</th>\n",
              "    </tr>\n",
              "    <tr>\n",
              "      <th>Sex</th>\n",
              "      <th>Pclass</th>\n",
              "      <th></th>\n",
              "    </tr>\n",
              "  </thead>\n",
              "  <tbody>\n",
              "    <tr>\n",
              "      <th rowspan=\"3\" valign=\"top\">0</th>\n",
              "      <th>1</th>\n",
              "      <td>40.0</td>\n",
              "    </tr>\n",
              "    <tr>\n",
              "      <th>2</th>\n",
              "      <td>30.0</td>\n",
              "    </tr>\n",
              "    <tr>\n",
              "      <th>3</th>\n",
              "      <td>25.0</td>\n",
              "    </tr>\n",
              "    <tr>\n",
              "      <th rowspan=\"3\" valign=\"top\">1</th>\n",
              "      <th>1</th>\n",
              "      <td>35.0</td>\n",
              "    </tr>\n",
              "    <tr>\n",
              "      <th>2</th>\n",
              "      <td>28.0</td>\n",
              "    </tr>\n",
              "    <tr>\n",
              "      <th>3</th>\n",
              "      <td>21.5</td>\n",
              "    </tr>\n",
              "  </tbody>\n",
              "</table>\n",
              "</div>"
            ],
            "text/plain": [
              "             Age\n",
              "Sex Pclass      \n",
              "0   1       40.0\n",
              "    2       30.0\n",
              "    3       25.0\n",
              "1   1       35.0\n",
              "    2       28.0\n",
              "    3       21.5"
            ]
          },
          "metadata": {
            "tags": []
          },
          "execution_count": 19
        }
      ]
    },
    {
      "cell_type": "code",
      "metadata": {
        "id": "WcrpqsL2Z40u",
        "colab_type": "code",
        "colab": {}
      },
      "source": [
        "median_age = np.zeros((2,3))\n",
        "for sex in range(2):\n",
        "    for pclass in range(1,4):\n",
        "        row = sex\n",
        "        col = pclass-1\n",
        "        \n",
        "        idx = (df_train['Sex'] == sex) & (df_train['Pclass'] == pclass)\n",
        "        age_guess = np.median(df_train[idx]['Age'].dropna())\n",
        "        if np.isnan(age_guess):\n",
        "            idx_sex_only = (df_train['Sex'] == sex)\n",
        "            age_guess = df_train[idx]['Age'].dropna().median()\n",
        "        median_age[row,col] = age_guess"
      ],
      "execution_count": 0,
      "outputs": []
    },
    {
      "cell_type": "code",
      "metadata": {
        "id": "N68b6j8Lc4-c",
        "colab_type": "code",
        "outputId": "628d413f-327d-4481-9562-6bc1861dc5e0",
        "colab": {
          "base_uri": "https://localhost:8080/",
          "height": 54
        }
      },
      "source": [
        "print(median_age)"
      ],
      "execution_count": 21,
      "outputs": [
        {
          "output_type": "stream",
          "text": [
            "[[40.  30.  25. ]\n",
            " [35.  28.  21.5]]\n"
          ],
          "name": "stdout"
        }
      ]
    },
    {
      "cell_type": "code",
      "metadata": {
        "id": "vRX7lFlClCtL",
        "colab_type": "code",
        "colab": {}
      },
      "source": [
        "for sex in range(2):\n",
        "    for pclass in range(1,4):\n",
        "        row = sex\n",
        "        col = pclass-1\n",
        "\n",
        "        df_train.loc[(df_train.Age.isnull()) & (df_train.Sex == sex) & (df_train.Pclass == pclass),\\\n",
        "                     'Age'] = median_age[row,col] "
      ],
      "execution_count": 0,
      "outputs": []
    },
    {
      "cell_type": "code",
      "metadata": {
        "id": "Oh_5x9-umbBa",
        "colab_type": "code",
        "outputId": "09cb8e50-829a-4118-bf40-f2d38a10529d",
        "colab": {
          "base_uri": "https://localhost:8080/",
          "height": 424
        }
      },
      "source": [
        "X_train = df_train.copy()\n",
        "X_train = X_train.drop(['Survived','PassengerId', 'Name', 'Ticket', 'Cabin'], axis=1)\n",
        "y_train = df_train['Survived'].copy()\n",
        "X_train"
      ],
      "execution_count": 23,
      "outputs": [
        {
          "output_type": "execute_result",
          "data": {
            "text/html": [
              "<div>\n",
              "<style scoped>\n",
              "    .dataframe tbody tr th:only-of-type {\n",
              "        vertical-align: middle;\n",
              "    }\n",
              "\n",
              "    .dataframe tbody tr th {\n",
              "        vertical-align: top;\n",
              "    }\n",
              "\n",
              "    .dataframe thead th {\n",
              "        text-align: right;\n",
              "    }\n",
              "</style>\n",
              "<table border=\"1\" class=\"dataframe\">\n",
              "  <thead>\n",
              "    <tr style=\"text-align: right;\">\n",
              "      <th></th>\n",
              "      <th>Pclass</th>\n",
              "      <th>Sex</th>\n",
              "      <th>Age</th>\n",
              "      <th>SibSp</th>\n",
              "      <th>Parch</th>\n",
              "      <th>Fare</th>\n",
              "      <th>Embarked</th>\n",
              "    </tr>\n",
              "  </thead>\n",
              "  <tbody>\n",
              "    <tr>\n",
              "      <th>0</th>\n",
              "      <td>3</td>\n",
              "      <td>0</td>\n",
              "      <td>22.0</td>\n",
              "      <td>1</td>\n",
              "      <td>0</td>\n",
              "      <td>7.2500</td>\n",
              "      <td>3</td>\n",
              "    </tr>\n",
              "    <tr>\n",
              "      <th>1</th>\n",
              "      <td>1</td>\n",
              "      <td>1</td>\n",
              "      <td>38.0</td>\n",
              "      <td>1</td>\n",
              "      <td>0</td>\n",
              "      <td>71.2833</td>\n",
              "      <td>1</td>\n",
              "    </tr>\n",
              "    <tr>\n",
              "      <th>2</th>\n",
              "      <td>3</td>\n",
              "      <td>1</td>\n",
              "      <td>26.0</td>\n",
              "      <td>0</td>\n",
              "      <td>0</td>\n",
              "      <td>7.9250</td>\n",
              "      <td>3</td>\n",
              "    </tr>\n",
              "    <tr>\n",
              "      <th>3</th>\n",
              "      <td>1</td>\n",
              "      <td>1</td>\n",
              "      <td>35.0</td>\n",
              "      <td>1</td>\n",
              "      <td>0</td>\n",
              "      <td>53.1000</td>\n",
              "      <td>3</td>\n",
              "    </tr>\n",
              "    <tr>\n",
              "      <th>4</th>\n",
              "      <td>3</td>\n",
              "      <td>0</td>\n",
              "      <td>35.0</td>\n",
              "      <td>0</td>\n",
              "      <td>0</td>\n",
              "      <td>8.0500</td>\n",
              "      <td>3</td>\n",
              "    </tr>\n",
              "    <tr>\n",
              "      <th>...</th>\n",
              "      <td>...</td>\n",
              "      <td>...</td>\n",
              "      <td>...</td>\n",
              "      <td>...</td>\n",
              "      <td>...</td>\n",
              "      <td>...</td>\n",
              "      <td>...</td>\n",
              "    </tr>\n",
              "    <tr>\n",
              "      <th>886</th>\n",
              "      <td>2</td>\n",
              "      <td>0</td>\n",
              "      <td>27.0</td>\n",
              "      <td>0</td>\n",
              "      <td>0</td>\n",
              "      <td>13.0000</td>\n",
              "      <td>3</td>\n",
              "    </tr>\n",
              "    <tr>\n",
              "      <th>887</th>\n",
              "      <td>1</td>\n",
              "      <td>1</td>\n",
              "      <td>19.0</td>\n",
              "      <td>0</td>\n",
              "      <td>0</td>\n",
              "      <td>30.0000</td>\n",
              "      <td>3</td>\n",
              "    </tr>\n",
              "    <tr>\n",
              "      <th>888</th>\n",
              "      <td>3</td>\n",
              "      <td>1</td>\n",
              "      <td>21.5</td>\n",
              "      <td>1</td>\n",
              "      <td>2</td>\n",
              "      <td>23.4500</td>\n",
              "      <td>3</td>\n",
              "    </tr>\n",
              "    <tr>\n",
              "      <th>889</th>\n",
              "      <td>1</td>\n",
              "      <td>0</td>\n",
              "      <td>26.0</td>\n",
              "      <td>0</td>\n",
              "      <td>0</td>\n",
              "      <td>30.0000</td>\n",
              "      <td>1</td>\n",
              "    </tr>\n",
              "    <tr>\n",
              "      <th>890</th>\n",
              "      <td>3</td>\n",
              "      <td>0</td>\n",
              "      <td>32.0</td>\n",
              "      <td>0</td>\n",
              "      <td>0</td>\n",
              "      <td>7.7500</td>\n",
              "      <td>2</td>\n",
              "    </tr>\n",
              "  </tbody>\n",
              "</table>\n",
              "<p>891 rows × 7 columns</p>\n",
              "</div>"
            ],
            "text/plain": [
              "     Pclass  Sex   Age  SibSp  Parch     Fare  Embarked\n",
              "0         3    0  22.0      1      0   7.2500         3\n",
              "1         1    1  38.0      1      0  71.2833         1\n",
              "2         3    1  26.0      0      0   7.9250         3\n",
              "3         1    1  35.0      1      0  53.1000         3\n",
              "4         3    0  35.0      0      0   8.0500         3\n",
              "..      ...  ...   ...    ...    ...      ...       ...\n",
              "886       2    0  27.0      0      0  13.0000         3\n",
              "887       1    1  19.0      0      0  30.0000         3\n",
              "888       3    1  21.5      1      2  23.4500         3\n",
              "889       1    0  26.0      0      0  30.0000         1\n",
              "890       3    0  32.0      0      0   7.7500         2\n",
              "\n",
              "[891 rows x 7 columns]"
            ]
          },
          "metadata": {
            "tags": []
          },
          "execution_count": 23
        }
      ]
    },
    {
      "cell_type": "markdown",
      "metadata": {
        "id": "lO6TvyPzzKKv",
        "colab_type": "text"
      },
      "source": [
        "### Prepare Test Set"
      ]
    },
    {
      "cell_type": "code",
      "metadata": {
        "id": "IYDmhsKezNpj",
        "colab_type": "code",
        "colab": {
          "base_uri": "https://localhost:8080/",
          "height": 348
        },
        "outputId": "966aa852-b5ad-4c26-b03d-d64714000ebf"
      },
      "source": [
        "df_test.info()"
      ],
      "execution_count": 24,
      "outputs": [
        {
          "output_type": "stream",
          "text": [
            "<class 'pandas.core.frame.DataFrame'>\n",
            "RangeIndex: 418 entries, 0 to 417\n",
            "Data columns (total 11 columns):\n",
            " #   Column       Non-Null Count  Dtype  \n",
            "---  ------       --------------  -----  \n",
            " 0   PassengerId  418 non-null    int64  \n",
            " 1   Pclass       418 non-null    int64  \n",
            " 2   Name         418 non-null    object \n",
            " 3   Sex          418 non-null    object \n",
            " 4   Age          332 non-null    float64\n",
            " 5   SibSp        418 non-null    int64  \n",
            " 6   Parch        418 non-null    int64  \n",
            " 7   Ticket       418 non-null    object \n",
            " 8   Fare         417 non-null    float64\n",
            " 9   Cabin        418 non-null    object \n",
            " 10  Embarked     418 non-null    object \n",
            "dtypes: float64(2), int64(4), object(5)\n",
            "memory usage: 36.0+ KB\n"
          ],
          "name": "stdout"
        }
      ]
    },
    {
      "cell_type": "code",
      "metadata": {
        "id": "RrrkwoffzcbQ",
        "colab_type": "code",
        "colab": {}
      },
      "source": [
        "df_test['Sex'] = df_test['Sex'].map({'male': 0, 'female': 1}).astype(int)\n",
        "df_test['Embarked'] = df_test['Embarked'].map({'NoVal': 0, 'C': 1, 'Q':2, 'S':3}).astype(int)"
      ],
      "execution_count": 0,
      "outputs": []
    },
    {
      "cell_type": "code",
      "metadata": {
        "id": "_j2vB8Uw0BqK",
        "colab_type": "code",
        "colab": {
          "base_uri": "https://localhost:8080/",
          "height": 274
        },
        "outputId": "5d43983c-0df8-44aa-cae0-7ee947771ec5"
      },
      "source": [
        "X_test = df_test.copy()\n",
        "X_test.dropna(axis=0, inplace=True)\n",
        "X_test.drop(['PassengerId', 'Name', 'Ticket', 'Cabin'], axis=1, inplace=True)\n",
        "X_test.info()"
      ],
      "execution_count": 26,
      "outputs": [
        {
          "output_type": "stream",
          "text": [
            "<class 'pandas.core.frame.DataFrame'>\n",
            "Int64Index: 331 entries, 0 to 415\n",
            "Data columns (total 7 columns):\n",
            " #   Column    Non-Null Count  Dtype  \n",
            "---  ------    --------------  -----  \n",
            " 0   Pclass    331 non-null    int64  \n",
            " 1   Sex       331 non-null    int64  \n",
            " 2   Age       331 non-null    float64\n",
            " 3   SibSp     331 non-null    int64  \n",
            " 4   Parch     331 non-null    int64  \n",
            " 5   Fare      331 non-null    float64\n",
            " 6   Embarked  331 non-null    int64  \n",
            "dtypes: float64(2), int64(5)\n",
            "memory usage: 20.7 KB\n"
          ],
          "name": "stdout"
        }
      ]
    },
    {
      "cell_type": "markdown",
      "metadata": {
        "id": "bcfrqTumjm9P",
        "colab_type": "text"
      },
      "source": [
        "## Initial Model Selection"
      ]
    },
    {
      "cell_type": "markdown",
      "metadata": {
        "id": "1vZf0iGyjN6t",
        "colab_type": "text"
      },
      "source": [
        "##SGD\n"
      ]
    },
    {
      "cell_type": "code",
      "metadata": {
        "id": "emN2xZyapMmo",
        "colab_type": "code",
        "outputId": "35c9d18b-f914-4eb2-cd6f-cea017986bcd",
        "colab": {
          "base_uri": "https://localhost:8080/",
          "height": 127
        }
      },
      "source": [
        "from sklearn.linear_model import SGDClassifier\n",
        "from sklearn.model_selection import cross_val_score\n",
        "sgd_clf = SGDClassifier()\n",
        "sgd_clf.fit(X_train, y_train)"
      ],
      "execution_count": 27,
      "outputs": [
        {
          "output_type": "execute_result",
          "data": {
            "text/plain": [
              "SGDClassifier(alpha=0.0001, average=False, class_weight=None,\n",
              "              early_stopping=False, epsilon=0.1, eta0=0.0, fit_intercept=True,\n",
              "              l1_ratio=0.15, learning_rate='optimal', loss='hinge',\n",
              "              max_iter=1000, n_iter_no_change=5, n_jobs=None, penalty='l2',\n",
              "              power_t=0.5, random_state=None, shuffle=True, tol=0.001,\n",
              "              validation_fraction=0.1, verbose=0, warm_start=False)"
            ]
          },
          "metadata": {
            "tags": []
          },
          "execution_count": 27
        }
      ]
    },
    {
      "cell_type": "code",
      "metadata": {
        "id": "zUhX5exupxvT",
        "colab_type": "code",
        "outputId": "bac5b856-bc3f-4385-bfd7-d365c47ca888",
        "colab": {
          "base_uri": "https://localhost:8080/",
          "height": 35
        }
      },
      "source": [
        "sgd_scores = cross_val_score(sgd_clf, X_train, y_train, cv=10, scoring='accuracy')\n",
        "sgd_scores.mean()"
      ],
      "execution_count": 28,
      "outputs": [
        {
          "output_type": "execute_result",
          "data": {
            "text/plain": [
              "0.7081897627965045"
            ]
          },
          "metadata": {
            "tags": []
          },
          "execution_count": 28
        }
      ]
    },
    {
      "cell_type": "markdown",
      "metadata": {
        "id": "iLQAN2VLjc_Y",
        "colab_type": "text"
      },
      "source": [
        "## KNN"
      ]
    },
    {
      "cell_type": "code",
      "metadata": {
        "id": "cMO-GVnRYgTN",
        "colab_type": "code",
        "colab": {}
      },
      "source": [
        "from sklearn.cluster import KMeans\n",
        "from sklearn.metrics import silhouette_score"
      ],
      "execution_count": 0,
      "outputs": []
    },
    {
      "cell_type": "markdown",
      "metadata": {
        "id": "7wG_qr4aaiB-",
        "colab_type": "text"
      },
      "source": [
        "How to Determine Number of Clusters to Use for KNN<br> \n",
        "Here it makes sense to have 2 clusters. "
      ]
    },
    {
      "cell_type": "code",
      "metadata": {
        "id": "98NcNOOgahSy",
        "colab_type": "code",
        "colab": {
          "base_uri": "https://localhost:8080/",
          "height": 738
        },
        "outputId": "803d80c4-48f9-4dc7-b294-830bfffffb3b"
      },
      "source": [
        "k_max = 8\n",
        "inertia_scores = np.zeros((k_max-1,1))\n",
        "silhouette_scores = np.zeros((k_max-1,1))\n",
        "k_list = np.zeros((k_max-1,1))\n",
        "for k in range(2,k_max+1):\n",
        "    ind = k-2\n",
        "    k_list[ind] = k\n",
        "    kmeans_k = KMeans(n_clusters=k)\n",
        "    inertia_scores[ind] = kmeans_k.fit(X_train).inertia_\n",
        "    silhouette_scores[ind] = silhouette_score(X_train, kmeans_k.labels_)\n",
        "\n",
        "plt.figure(figsize=(8, 4))\n",
        "plt.plot(k_list, inertia_scores, \"b.--\")\n",
        "plt.xlabel('Number of Clusters (k)')\n",
        "plt.ylabel('Inertia')\n",
        "plt.title('KNN Inertia by Number of Clusters (k)')\n",
        "plt.xticks(np.arange(1,k_max+1, step=1))\n",
        "plt.ticklabel_format(axis='y', style='plain')\n",
        "\n",
        "plt.figure(figsize=(8, 4))\n",
        "plt.plot(k_list, silhouette_scores, \"b.--\")\n",
        "plt.xlabel('Number of Clusters (k)')\n",
        "plt.ylabel('Silhouette Score')\n",
        "plt.title('KNN Silhouette Score by Number of Clusters (k)')\n",
        "plt.xticks(np.arange(1,k_max+1, step=1))"
      ],
      "execution_count": 30,
      "outputs": [
        {
          "output_type": "execute_result",
          "data": {
            "text/plain": [
              "([<matplotlib.axis.XTick at 0x7f61a92084a8>,\n",
              "  <matplotlib.axis.XTick at 0x7f61a9208780>,\n",
              "  <matplotlib.axis.XTick at 0x7f61a9218ac8>,\n",
              "  <matplotlib.axis.XTick at 0x7f61a91c54e0>,\n",
              "  <matplotlib.axis.XTick at 0x7f61a91c5978>,\n",
              "  <matplotlib.axis.XTick at 0x7f61a91c5e10>,\n",
              "  <matplotlib.axis.XTick at 0x7f61a91cf2e8>,\n",
              "  <matplotlib.axis.XTick at 0x7f61a91cf780>],\n",
              " <a list of 8 Text major ticklabel objects>)"
            ]
          },
          "metadata": {
            "tags": []
          },
          "execution_count": 30
        },
        {
          "output_type": "display_data",
          "data": {
            "image/png": "[encoded data removed]",
            "text/plain": [
              "<Figure size 576x288 with 1 Axes>"
            ]
          },
          "metadata": {
            "tags": [],
            "needs_background": "light"
          }
        },
        {
          "output_type": "display_data",
          "data": {
            "image/png": "[encoded data removed]",
            "text/plain": [
              "<Figure size 576x288 with 1 Axes>"
            ]
          },
          "metadata": {
            "tags": [],
            "needs_background": "light"
          }
        }
      ]
    },
    {
      "cell_type": "code",
      "metadata": {
        "id": "QET2T30HZruM",
        "colab_type": "code",
        "colab": {
          "base_uri": "https://localhost:8080/",
          "height": 35
        },
        "outputId": "62158a97-de4f-4b19-dcd2-1a872f9dbc33"
      },
      "source": [
        "k = 2\n",
        "kmeans = KMeans(n_clusters=k)\n",
        "kmeans_scores = cross_val_score(kmeans, X_train, y_train, cv=10, scoring='accuracy')\n",
        "kmeans_scores.mean()"
      ],
      "execution_count": 31,
      "outputs": [
        {
          "output_type": "execute_result",
          "data": {
            "text/plain": [
              "0.5566541822721598"
            ]
          },
          "metadata": {
            "tags": []
          },
          "execution_count": 31
        }
      ]
    },
    {
      "cell_type": "markdown",
      "metadata": {
        "id": "PM6Tjnpwjgoe",
        "colab_type": "text"
      },
      "source": [
        "## SVM"
      ]
    },
    {
      "cell_type": "code",
      "metadata": {
        "id": "moOaoKMQqCtC",
        "colab_type": "code",
        "outputId": "65c700d7-d951-4eab-b398-51607811fdb2",
        "colab": {
          "base_uri": "https://localhost:8080/",
          "height": 90
        }
      },
      "source": [
        "from sklearn.svm import SVC\n",
        "\n",
        "svm_clf = SVC(gamma='auto')\n",
        "svm_clf.fit(X_train, y_train)"
      ],
      "execution_count": 32,
      "outputs": [
        {
          "output_type": "execute_result",
          "data": {
            "text/plain": [
              "SVC(C=1.0, break_ties=False, cache_size=200, class_weight=None, coef0=0.0,\n",
              "    decision_function_shape='ovr', degree=3, gamma='auto', kernel='rbf',\n",
              "    max_iter=-1, probability=False, random_state=None, shrinking=True,\n",
              "    tol=0.001, verbose=False)"
            ]
          },
          "metadata": {
            "tags": []
          },
          "execution_count": 32
        }
      ]
    },
    {
      "cell_type": "code",
      "metadata": {
        "id": "eoQAXsdhrXOa",
        "colab_type": "code",
        "outputId": "06f07fe4-f01d-485a-b642-4794d353a1b9",
        "colab": {
          "base_uri": "https://localhost:8080/",
          "height": 35
        }
      },
      "source": [
        "svm_scores = cross_val_score(svm_clf, X_train, y_train, cv=10, scoring = 'accuracy')\n",
        "svm_scores.mean()                            "
      ],
      "execution_count": 33,
      "outputs": [
        {
          "output_type": "execute_result",
          "data": {
            "text/plain": [
              "0.705980024968789"
            ]
          },
          "metadata": {
            "tags": []
          },
          "execution_count": 33
        }
      ]
    },
    {
      "cell_type": "markdown",
      "metadata": {
        "id": "1OlpTepCjjfi",
        "colab_type": "text"
      },
      "source": [
        "## Random Forest"
      ]
    },
    {
      "cell_type": "code",
      "metadata": {
        "id": "qV5Y3vxcr8d3",
        "colab_type": "code",
        "outputId": "aa6df88b-e132-4924-f0de-956e5adb21b2",
        "colab": {
          "base_uri": "https://localhost:8080/",
          "height": 35
        }
      },
      "source": [
        "from sklearn.ensemble import RandomForestClassifier\n",
        "\n",
        "forest_clf = RandomForestClassifier(n_estimators=100)\n",
        "forest_scores = cross_val_score(forest_clf, X_train, y_train, cv=10, scoring='accuracy')\n",
        "forest_scores.mean()"
      ],
      "execution_count": 34,
      "outputs": [
        {
          "output_type": "execute_result",
          "data": {
            "text/plain": [
              "0.8081523096129837"
            ]
          },
          "metadata": {
            "tags": []
          },
          "execution_count": 34
        }
      ]
    },
    {
      "cell_type": "code",
      "metadata": {
        "id": "1WXKAfB4xHPb",
        "colab_type": "code",
        "colab": {
          "base_uri": "https://localhost:8080/",
          "height": 146
        },
        "outputId": "c996ed57-96b1-492d-ea59-6e27fb313ec4"
      },
      "source": [
        "forest_clf.fit(X_train, y_train)\n",
        "for name, score in zip(X_train.columns, forest_clf.feature_importances_):\n",
        "    print(name, round(score,2))"
      ],
      "execution_count": 35,
      "outputs": [
        {
          "output_type": "stream",
          "text": [
            "Pclass 0.09\n",
            "Sex 0.26\n",
            "Age 0.26\n",
            "SibSp 0.05\n",
            "Parch 0.04\n",
            "Fare 0.27\n",
            "Embarked 0.03\n"
          ],
          "name": "stdout"
        }
      ]
    },
    {
      "cell_type": "markdown",
      "metadata": {
        "id": "yf-0c5hEjv9u",
        "colab_type": "text"
      },
      "source": [
        "## Logistic Regression"
      ]
    },
    {
      "cell_type": "code",
      "metadata": {
        "id": "ZYXZZKgWkArw",
        "colab_type": "code",
        "colab": {}
      },
      "source": [
        "from sklearn.linear_model import LogisticRegression"
      ],
      "execution_count": 0,
      "outputs": []
    },
    {
      "cell_type": "code",
      "metadata": {
        "id": "HoQwggB6kIES",
        "colab_type": "code",
        "colab": {
          "base_uri": "https://localhost:8080/",
          "height": 35
        },
        "outputId": "4d91dd3e-58fa-4998-ef60-0219b8dc1d67"
      },
      "source": [
        "log_reg = LogisticRegression(max_iter=200)\n",
        "log_reg.fit(X_train, y_train)\n",
        "log_reg_scores = cross_val_score(log_reg, X_train, y_train, cv=10, scoring='accuracy')\n",
        "log_reg_scores.mean()"
      ],
      "execution_count": 37,
      "outputs": [
        {
          "output_type": "execute_result",
          "data": {
            "text/plain": [
              "0.8058551810237203"
            ]
          },
          "metadata": {
            "tags": []
          },
          "execution_count": 37
        }
      ]
    },
    {
      "cell_type": "markdown",
      "metadata": {
        "id": "2MYmyOl7mifO",
        "colab_type": "text"
      },
      "source": [
        "## Create a Base Estimator\n",
        "For comparison (should at least beat this)"
      ]
    },
    {
      "cell_type": "code",
      "metadata": {
        "id": "RhlOjGN6miHv",
        "colab_type": "code",
        "colab": {}
      },
      "source": [
        "from sklearn.base import BaseEstimator\n",
        "\n",
        "class WomenAndChildrenClassifier(BaseEstimator):\n",
        "    def fit(self, X, y=None):\n",
        "        return self\n",
        "    def predict(self, X):\n",
        "        y_out = np.zeros((X.shape[0],1))\n",
        "        y_out[(X.Sex == 1) | (X.Age <=12)] = 1\n",
        "        return y_out"
      ],
      "execution_count": 0,
      "outputs": []
    },
    {
      "cell_type": "code",
      "metadata": {
        "id": "fU-oJmFun9pH",
        "colab_type": "code",
        "colab": {
          "base_uri": "https://localhost:8080/",
          "height": 35
        },
        "outputId": "d2ee96a6-f0c1-4b18-befa-15186e6918cb"
      },
      "source": [
        "womenchildren_clf = WomenAndChildrenClassifier()\n",
        "womenchildren_scores = cross_val_score(womenchildren_clf, X_train, y_train, cv=10, scoring='accuracy')\n",
        "womenchildren_scores.mean()"
      ],
      "execution_count": 39,
      "outputs": [
        {
          "output_type": "execute_result",
          "data": {
            "text/plain": [
              "0.7923970037453183"
            ]
          },
          "metadata": {
            "tags": []
          },
          "execution_count": 39
        }
      ]
    },
    {
      "cell_type": "markdown",
      "metadata": {
        "id": "LN2Ryq-2jscl",
        "colab_type": "text"
      },
      "source": [
        "## Initial Model Comparison"
      ]
    },
    {
      "cell_type": "code",
      "metadata": {
        "id": "21pz3wrZrjb-",
        "colab_type": "code",
        "outputId": "1c3c10cc-254a-4a62-dfe1-c5c87a892a14",
        "colab": {
          "base_uri": "https://localhost:8080/",
          "height": 281
        }
      },
      "source": [
        "plt.figure(figsize=(8, 4))\n",
        "plt.plot([1]*10, womenchildren_scores, '.')\n",
        "plt.plot([2]*10, sgd_scores, \".\")\n",
        "plt.plot([3]*10, kmeans_scores, \".\")\n",
        "plt.plot([4]*10, svm_scores, \".\")\n",
        "plt.plot([5]*10, log_reg_scores, \".\")\n",
        "plt.plot([6]*10, forest_scores, \".\")\n",
        "plt.boxplot([womenchildren_scores, sgd_scores, kmeans_scores, svm_scores, log_reg_scores, forest_scores],\\\n",
        "            labels=(\"WomenChildren\", \"SGD\", \"KNN(2)\", \"SVM\", \"Log Reg\", \"Random Forest\"))\n",
        "plt.plot([0, 7], [0.5, 0.5], 'k--')\n",
        "plt.xlim((.5,6.5))\n",
        "plt.ylabel(\"Accuracy\", fontsize=14)\n",
        "plt.title('Initial Model CrossVal Performance (cv=10)')\n",
        "plt.show()"
      ],
      "execution_count": 40,
      "outputs": [
        {
          "output_type": "display_data",
          "data": {
            "image/png": "[encoded data removed]",
            "text/plain": [
              "<Figure size 576x288 with 1 Axes>"
            ]
          },
          "metadata": {
            "tags": [],
            "needs_background": "light"
          }
        }
      ]
    },
    {
      "cell_type": "markdown",
      "metadata": {
        "id": "ZDcM3C0ettjo",
        "colab_type": "text"
      },
      "source": [
        "**Conclusions:**\n",
        "*     SGD and KNN perform poorly\n",
        "*     Logistic Regression and Random Forests show promise\n",
        "*     Just picking women and children seems to work well (no learning at all)\n",
        "\n",
        "\n",
        "**Improve Training Models:**<br>\n",
        "Attempt to improve SVM, Logistic Regression, and Random Forest performance\n",
        "*     Try adding/combining features\n",
        "*     Hyperparameter tuning"
      ]
    },
    {
      "cell_type": "code",
      "metadata": {
        "id": "F9NNk8PbuK8d",
        "colab_type": "code",
        "colab": {
          "base_uri": "https://localhost:8080/",
          "height": 424
        },
        "outputId": "821dff37-fe2b-41b2-cbb3-4ce59357571c"
      },
      "source": [
        "X_train2 = X_train.copy()\n",
        "X_train2.drop(['SibSp', 'Parch'], axis=1, inplace=True)\n",
        "X_train2['RelativesOnBoard'] = X_train['SibSp'] + X_train['Parch']\n",
        "X_train2"
      ],
      "execution_count": 41,
      "outputs": [
        {
          "output_type": "execute_result",
          "data": {
            "text/html": [
              "<div>\n",
              "<style scoped>\n",
              "    .dataframe tbody tr th:only-of-type {\n",
              "        vertical-align: middle;\n",
              "    }\n",
              "\n",
              "    .dataframe tbody tr th {\n",
              "        vertical-align: top;\n",
              "    }\n",
              "\n",
              "    .dataframe thead th {\n",
              "        text-align: right;\n",
              "    }\n",
              "</style>\n",
              "<table border=\"1\" class=\"dataframe\">\n",
              "  <thead>\n",
              "    <tr style=\"text-align: right;\">\n",
              "      <th></th>\n",
              "      <th>Pclass</th>\n",
              "      <th>Sex</th>\n",
              "      <th>Age</th>\n",
              "      <th>Fare</th>\n",
              "      <th>Embarked</th>\n",
              "      <th>RelativesOnBoard</th>\n",
              "    </tr>\n",
              "  </thead>\n",
              "  <tbody>\n",
              "    <tr>\n",
              "      <th>0</th>\n",
              "      <td>3</td>\n",
              "      <td>0</td>\n",
              "      <td>22.0</td>\n",
              "      <td>7.2500</td>\n",
              "      <td>3</td>\n",
              "      <td>1</td>\n",
              "    </tr>\n",
              "    <tr>\n",
              "      <th>1</th>\n",
              "      <td>1</td>\n",
              "      <td>1</td>\n",
              "      <td>38.0</td>\n",
              "      <td>71.2833</td>\n",
              "      <td>1</td>\n",
              "      <td>1</td>\n",
              "    </tr>\n",
              "    <tr>\n",
              "      <th>2</th>\n",
              "      <td>3</td>\n",
              "      <td>1</td>\n",
              "      <td>26.0</td>\n",
              "      <td>7.9250</td>\n",
              "      <td>3</td>\n",
              "      <td>0</td>\n",
              "    </tr>\n",
              "    <tr>\n",
              "      <th>3</th>\n",
              "      <td>1</td>\n",
              "      <td>1</td>\n",
              "      <td>35.0</td>\n",
              "      <td>53.1000</td>\n",
              "      <td>3</td>\n",
              "      <td>1</td>\n",
              "    </tr>\n",
              "    <tr>\n",
              "      <th>4</th>\n",
              "      <td>3</td>\n",
              "      <td>0</td>\n",
              "      <td>35.0</td>\n",
              "      <td>8.0500</td>\n",
              "      <td>3</td>\n",
              "      <td>0</td>\n",
              "    </tr>\n",
              "    <tr>\n",
              "      <th>...</th>\n",
              "      <td>...</td>\n",
              "      <td>...</td>\n",
              "      <td>...</td>\n",
              "      <td>...</td>\n",
              "      <td>...</td>\n",
              "      <td>...</td>\n",
              "    </tr>\n",
              "    <tr>\n",
              "      <th>886</th>\n",
              "      <td>2</td>\n",
              "      <td>0</td>\n",
              "      <td>27.0</td>\n",
              "      <td>13.0000</td>\n",
              "      <td>3</td>\n",
              "      <td>0</td>\n",
              "    </tr>\n",
              "    <tr>\n",
              "      <th>887</th>\n",
              "      <td>1</td>\n",
              "      <td>1</td>\n",
              "      <td>19.0</td>\n",
              "      <td>30.0000</td>\n",
              "      <td>3</td>\n",
              "      <td>0</td>\n",
              "    </tr>\n",
              "    <tr>\n",
              "      <th>888</th>\n",
              "      <td>3</td>\n",
              "      <td>1</td>\n",
              "      <td>21.5</td>\n",
              "      <td>23.4500</td>\n",
              "      <td>3</td>\n",
              "      <td>3</td>\n",
              "    </tr>\n",
              "    <tr>\n",
              "      <th>889</th>\n",
              "      <td>1</td>\n",
              "      <td>0</td>\n",
              "      <td>26.0</td>\n",
              "      <td>30.0000</td>\n",
              "      <td>1</td>\n",
              "      <td>0</td>\n",
              "    </tr>\n",
              "    <tr>\n",
              "      <th>890</th>\n",
              "      <td>3</td>\n",
              "      <td>0</td>\n",
              "      <td>32.0</td>\n",
              "      <td>7.7500</td>\n",
              "      <td>2</td>\n",
              "      <td>0</td>\n",
              "    </tr>\n",
              "  </tbody>\n",
              "</table>\n",
              "<p>891 rows × 6 columns</p>\n",
              "</div>"
            ],
            "text/plain": [
              "     Pclass  Sex   Age     Fare  Embarked  RelativesOnBoard\n",
              "0         3    0  22.0   7.2500         3                 1\n",
              "1         1    1  38.0  71.2833         1                 1\n",
              "2         3    1  26.0   7.9250         3                 0\n",
              "3         1    1  35.0  53.1000         3                 1\n",
              "4         3    0  35.0   8.0500         3                 0\n",
              "..      ...  ...   ...      ...       ...               ...\n",
              "886       2    0  27.0  13.0000         3                 0\n",
              "887       1    1  19.0  30.0000         3                 0\n",
              "888       3    1  21.5  23.4500         3                 3\n",
              "889       1    0  26.0  30.0000         1                 0\n",
              "890       3    0  32.0   7.7500         2                 0\n",
              "\n",
              "[891 rows x 6 columns]"
            ]
          },
          "metadata": {
            "tags": []
          },
          "execution_count": 41
        }
      ]
    },
    {
      "cell_type": "markdown",
      "metadata": {
        "id": "hkoq_DO-xYzO",
        "colab_type": "text"
      },
      "source": [
        "**Other ways to increase accuracy with features:**\n",
        "*     Add buckets for various titles from `Name` info\n",
        "*     Age buckets?"
      ]
    },
    {
      "cell_type": "code",
      "metadata": {
        "id": "h2_7x0y7ug8C",
        "colab_type": "code",
        "colab": {}
      },
      "source": [
        "sgd_scores2 = cross_val_score(sgd_clf, X_train2, y_train, cv=10, scoring='accuracy')\n",
        "kmeans_scores2 = cross_val_score(kmeans, X_train2, y_train, cv=10, scoring='accuracy')\n",
        "svm_scores2 = cross_val_score(svm_clf, X_train2, y_train, cv=10, scoring = 'accuracy')\n",
        "forest_scores2 = cross_val_score(forest_clf, X_train2, y_train, cv=10, scoring='accuracy')\n",
        "log_reg_scores2 = cross_val_score(log_reg, X_train2, y_train, cv=10, scoring='accuracy')"
      ],
      "execution_count": 0,
      "outputs": []
    },
    {
      "cell_type": "code",
      "metadata": {
        "id": "3OYRbYsCvMMV",
        "colab_type": "code",
        "colab": {
          "base_uri": "https://localhost:8080/",
          "height": 127
        },
        "outputId": "ae598bbb-b34e-4db2-e5ce-632ed76476e6"
      },
      "source": [
        "forest_clf.fit(X_train2, y_train)\n",
        "for name, score in zip(X_train2.columns, forest_clf.feature_importances_):\n",
        "    print(name, round(score,2))"
      ],
      "execution_count": 43,
      "outputs": [
        {
          "output_type": "stream",
          "text": [
            "Pclass 0.09\n",
            "Sex 0.27\n",
            "Age 0.27\n",
            "Fare 0.26\n",
            "Embarked 0.03\n",
            "RelativesOnBoard 0.08\n"
          ],
          "name": "stdout"
        }
      ]
    },
    {
      "cell_type": "code",
      "metadata": {
        "id": "4VN9TZo_vhqa",
        "colab_type": "code",
        "colab": {
          "base_uri": "https://localhost:8080/",
          "height": 206
        },
        "outputId": "7d4d6c53-46bf-4ea0-8112-89cfcd905fd3"
      },
      "source": [
        "data = {\n",
        "    'model': ['SGD', 'KNN(2)', 'SVM', 'LR', 'RF'],\n",
        "    'scores1': [sgd_scores.mean(), kmeans_scores.mean(), svm_scores.mean(), \n",
        "                log_reg_scores.mean(), forest_scores.mean()],\n",
        "    'scores2': [sgd_scores2.mean(), kmeans_scores2.mean(), svm_scores2.mean(), \n",
        "                log_reg_scores2.mean(), forest_scores2.mean()]\n",
        "}\n",
        "df_scores = pd.DataFrame(data)\n",
        "df_scores"
      ],
      "execution_count": 44,
      "outputs": [
        {
          "output_type": "execute_result",
          "data": {
            "text/html": [
              "<div>\n",
              "<style scoped>\n",
              "    .dataframe tbody tr th:only-of-type {\n",
              "        vertical-align: middle;\n",
              "    }\n",
              "\n",
              "    .dataframe tbody tr th {\n",
              "        vertical-align: top;\n",
              "    }\n",
              "\n",
              "    .dataframe thead th {\n",
              "        text-align: right;\n",
              "    }\n",
              "</style>\n",
              "<table border=\"1\" class=\"dataframe\">\n",
              "  <thead>\n",
              "    <tr style=\"text-align: right;\">\n",
              "      <th></th>\n",
              "      <th>model</th>\n",
              "      <th>scores1</th>\n",
              "      <th>scores2</th>\n",
              "    </tr>\n",
              "  </thead>\n",
              "  <tbody>\n",
              "    <tr>\n",
              "      <th>0</th>\n",
              "      <td>SGD</td>\n",
              "      <td>0.708190</td>\n",
              "      <td>0.690262</td>\n",
              "    </tr>\n",
              "    <tr>\n",
              "      <th>1</th>\n",
              "      <td>KNN(2)</td>\n",
              "      <td>0.556654</td>\n",
              "      <td>0.625194</td>\n",
              "    </tr>\n",
              "    <tr>\n",
              "      <th>2</th>\n",
              "      <td>SVM</td>\n",
              "      <td>0.705980</td>\n",
              "      <td>0.707116</td>\n",
              "    </tr>\n",
              "    <tr>\n",
              "      <th>3</th>\n",
              "      <td>LR</td>\n",
              "      <td>0.805855</td>\n",
              "      <td>0.801361</td>\n",
              "    </tr>\n",
              "    <tr>\n",
              "      <th>4</th>\n",
              "      <td>RF</td>\n",
              "      <td>0.808152</td>\n",
              "      <td>0.802534</td>\n",
              "    </tr>\n",
              "  </tbody>\n",
              "</table>\n",
              "</div>"
            ],
            "text/plain": [
              "    model   scores1   scores2\n",
              "0     SGD  0.708190  0.690262\n",
              "1  KNN(2)  0.556654  0.625194\n",
              "2     SVM  0.705980  0.707116\n",
              "3      LR  0.805855  0.801361\n",
              "4      RF  0.808152  0.802534"
            ]
          },
          "metadata": {
            "tags": []
          },
          "execution_count": 44
        }
      ]
    },
    {
      "cell_type": "markdown",
      "metadata": {
        "id": "3BEz7LT0rKm0",
        "colab_type": "text"
      },
      "source": [
        "### Make Predictions with Test Set"
      ]
    },
    {
      "cell_type": "code",
      "metadata": {
        "id": "LCoVqVQkrLO8",
        "colab_type": "code",
        "colab": {}
      },
      "source": [
        "sgd_clf.fit(X_train, y_train)\n",
        "sgd_pred = sgd_clf.predict(X_test)"
      ],
      "execution_count": 0,
      "outputs": []
    },
    {
      "cell_type": "code",
      "metadata": {
        "id": "Th6S56yj19KH",
        "colab_type": "code",
        "colab": {}
      },
      "source": [
        "svm_clf.fit(X_train, y_train)\n",
        "svm_pred = svm_clf.predict(X_test)"
      ],
      "execution_count": 0,
      "outputs": []
    },
    {
      "cell_type": "code",
      "metadata": {
        "id": "aWRM-KE_2Slx",
        "colab_type": "code",
        "colab": {}
      },
      "source": [
        "kmeans.fit(X_train, y_train)\n",
        "kmeans_pred = kmeans.predict(X_test)"
      ],
      "execution_count": 0,
      "outputs": []
    },
    {
      "cell_type": "code",
      "metadata": {
        "id": "lz_B3KRj2fcz",
        "colab_type": "code",
        "colab": {}
      },
      "source": [
        "log_reg.fit(X_train, y_train)\n",
        "log_reg_pred = log_reg.predict(X_test)"
      ],
      "execution_count": 0,
      "outputs": []
    },
    {
      "cell_type": "code",
      "metadata": {
        "id": "KO701ak127kM",
        "colab_type": "code",
        "colab": {}
      },
      "source": [
        "forest_clf.fit(X_train, y_train)\n",
        "forest_pred = forest_clf.predict(X_test)"
      ],
      "execution_count": 0,
      "outputs": []
    },
    {
      "cell_type": "code",
      "metadata": {
        "id": "MVFvf0rL3QaM",
        "colab_type": "code",
        "colab": {}
      },
      "source": [
        "pred_survivors = {\n",
        "    'model': data['model'],\n",
        "    'num survivors': [sgd_pred.sum(), kmeans_pred.sum(), svm_pred.sum(),\n",
        "                      log_reg_pred.sum(), forest_pred.sum()]\n",
        "}\n",
        "df_survivors = pd.DataFrame(pred_survivors)"
      ],
      "execution_count": 0,
      "outputs": []
    },
    {
      "cell_type": "code",
      "metadata": {
        "id": "3seQ5rJr3ovS",
        "colab_type": "code",
        "colab": {
          "base_uri": "https://localhost:8080/",
          "height": 206
        },
        "outputId": "021a3968-c494-4034-85f9-8e701a91d377"
      },
      "source": [
        "df_survivors"
      ],
      "execution_count": 51,
      "outputs": [
        {
          "output_type": "execute_result",
          "data": {
            "text/html": [
              "<div>\n",
              "<style scoped>\n",
              "    .dataframe tbody tr th:only-of-type {\n",
              "        vertical-align: middle;\n",
              "    }\n",
              "\n",
              "    .dataframe tbody tr th {\n",
              "        vertical-align: top;\n",
              "    }\n",
              "\n",
              "    .dataframe thead th {\n",
              "        text-align: right;\n",
              "    }\n",
              "</style>\n",
              "<table border=\"1\" class=\"dataframe\">\n",
              "  <thead>\n",
              "    <tr style=\"text-align: right;\">\n",
              "      <th></th>\n",
              "      <th>model</th>\n",
              "      <th>num survivors</th>\n",
              "    </tr>\n",
              "  </thead>\n",
              "  <tbody>\n",
              "    <tr>\n",
              "      <th>0</th>\n",
              "      <td>SGD</td>\n",
              "      <td>0</td>\n",
              "    </tr>\n",
              "    <tr>\n",
              "      <th>1</th>\n",
              "      <td>KNN(2)</td>\n",
              "      <td>31</td>\n",
              "    </tr>\n",
              "    <tr>\n",
              "      <th>2</th>\n",
              "      <td>SVM</td>\n",
              "      <td>136</td>\n",
              "    </tr>\n",
              "    <tr>\n",
              "      <th>3</th>\n",
              "      <td>LR</td>\n",
              "      <td>133</td>\n",
              "    </tr>\n",
              "    <tr>\n",
              "      <th>4</th>\n",
              "      <td>RF</td>\n",
              "      <td>137</td>\n",
              "    </tr>\n",
              "  </tbody>\n",
              "</table>\n",
              "</div>"
            ],
            "text/plain": [
              "    model  num survivors\n",
              "0     SGD              0\n",
              "1  KNN(2)             31\n",
              "2     SVM            136\n",
              "3      LR            133\n",
              "4      RF            137"
            ]
          },
          "metadata": {
            "tags": []
          },
          "execution_count": 51
        }
      ]
    },
    {
      "cell_type": "code",
      "metadata": {
        "id": "sa9R3fwi4kTI",
        "colab_type": "code",
        "colab": {
          "base_uri": "https://localhost:8080/",
          "height": 35
        },
        "outputId": "22f783b0-eba2-4cd7-e010-d5311f95f6a2"
      },
      "source": [
        "print('Test Set Size: %d' % X_test.Age.shape[0])"
      ],
      "execution_count": 52,
      "outputs": [
        {
          "output_type": "stream",
          "text": [
            "Test Set Size: 331\n"
          ],
          "name": "stdout"
        }
      ]
    }
  ]
}