{
  "nbformat": 4,
  "nbformat_minor": 0,
  "metadata": {
    "colab": {
      "name": "Classification_MNIST.ipynb",
      "provenance": [],
      "authorship_tag": "ABX9TyP3WAdduLQ1hntHHVRt2exu"
    },
    "kernelspec": {
      "name": "python3",
      "display_name": "Python 3"
    }
  },
  "cells": [
    {
      "cell_type": "markdown",
      "metadata": {
        "id": "0oSrWPw2ecsb",
        "colab_type": "text"
      },
      "source": [
        "# Classification\n",
        "This notebook is based on Chapter 3: Classification from the book *Hands-On Machine Learning with Scikit-Learn, Keras, & Tensorflow* by Aurelien Geron.\n",
        "\n",
        "## MNIST Dataset\n",
        "Set of 70,000 small images of handwritten digits. "
      ]
    },
    {
      "cell_type": "code",
      "metadata": {
        "id": "kmsfiVpYdshk",
        "colab_type": "code",
        "outputId": "696da41e-3906-46e1-d99a-f48c14d64372",
        "colab": {
          "base_uri": "https://localhost:8080/",
          "height": 55
        }
      },
      "source": [
        "from sklearn.datasets import fetch_openml\n",
        "mnist = fetch_openml('mnist_784', version=1)\n",
        "mnist.keys()"
      ],
      "execution_count": 1,
      "outputs": [
        {
          "output_type": "execute_result",
          "data": {
            "text/plain": [
              "dict_keys(['data', 'target', 'frame', 'feature_names', 'target_names', 'DESCR', 'details', 'categories', 'url'])"
            ]
          },
          "metadata": {
            "tags": []
          },
          "execution_count": 1
        }
      ]
    },
    {
      "cell_type": "code",
      "metadata": {
        "id": "ISfDqoTgePR_",
        "colab_type": "code",
        "colab": {}
      },
      "source": [
        "# mnist['DESCR']      # Uncomment for complete description of the data"
      ],
      "execution_count": 0,
      "outputs": []
    },
    {
      "cell_type": "code",
      "metadata": {
        "id": "iRH2GpY3e2qx",
        "colab_type": "code",
        "colab": {}
      },
      "source": [
        "X, y = mnist['data'], mnist['target']"
      ],
      "execution_count": 0,
      "outputs": []
    },
    {
      "cell_type": "code",
      "metadata": {
        "id": "cH7p9OnbfQxA",
        "colab_type": "code",
        "outputId": "95ef4bb1-354b-4d43-8410-435215dfdafd",
        "colab": {
          "base_uri": "https://localhost:8080/",
          "height": 35
        }
      },
      "source": [
        "X.shape              # Each of the 70,000 images has 784 features which are the pixel intensity in 0 (white) to 155 (black) for each pixel in the 28 x 28 pixel image."
      ],
      "execution_count": 3,
      "outputs": [
        {
          "output_type": "execute_result",
          "data": {
            "text/plain": [
              "(70000, 784)"
            ]
          },
          "metadata": {
            "tags": []
          },
          "execution_count": 3
        }
      ]
    },
    {
      "cell_type": "code",
      "metadata": {
        "id": "xXcyNqaIfVDH",
        "colab_type": "code",
        "outputId": "81b96062-5896-438c-ad8c-3851e03979fc",
        "colab": {
          "base_uri": "https://localhost:8080/",
          "height": 35
        }
      },
      "source": [
        "y.shape              # Labels"
      ],
      "execution_count": 4,
      "outputs": [
        {
          "output_type": "execute_result",
          "data": {
            "text/plain": [
              "(70000,)"
            ]
          },
          "metadata": {
            "tags": []
          },
          "execution_count": 4
        }
      ]
    },
    {
      "cell_type": "code",
      "metadata": {
        "id": "HIGHg4WUfWnZ",
        "colab_type": "code",
        "colab": {}
      },
      "source": [
        "import matplotlib.pyplot as plt\n",
        "import matplotlib as mpl\n",
        "import numpy as np"
      ],
      "execution_count": 0,
      "outputs": []
    },
    {
      "cell_type": "code",
      "metadata": {
        "id": "DqRfGAu2f39o",
        "colab_type": "code",
        "outputId": "8e886732-e812-439c-92c1-ddce406fe7d0",
        "colab": {
          "base_uri": "https://localhost:8080/",
          "height": 264
        }
      },
      "source": [
        "some_digit = X[0]\n",
        "some_digit_image = some_digit.reshape(28,28)\n",
        "\n",
        "plt.imshow(some_digit_image, cmap = 'binary')\n",
        "plt.axis('off')\n",
        "plt.title('Correct label: ' + y[0])\n",
        "plt.show()"
      ],
      "execution_count": 6,
      "outputs": [
        {
          "output_type": "display_data",
          "data": {
            "image/png": "[encoded data removed]",
            "text/plain": [
              "<Figure size 432x288 with 1 Axes>"
            ]
          },
          "metadata": {
            "tags": []
          }
        }
      ]
    },
    {
      "cell_type": "code",
      "metadata": {
        "id": "XPbRDYm8f-8i",
        "colab_type": "code",
        "outputId": "e72472ea-8f92-4ab3-95cf-48a036602b28",
        "colab": {
          "base_uri": "https://localhost:8080/",
          "height": 248
        }
      },
      "source": [
        "# Take a look at first 100 entries\n",
        "fig, axes = plt.subplots(10,10)\n",
        "ind = 0\n",
        "for i in range(10):\n",
        "    for j in range(10):\n",
        "        axes[i,j].imshow(X[ind].reshape(28,28), cmap='binary')\n",
        "        axes[i,j].axis('off')\n",
        "        ind += 1\n",
        "plt.subplots_adjust(wspace=0, hspace=0)"
      ],
      "execution_count": 7,
      "outputs": [
        {
          "output_type": "display_data",
          "data": {
            "image/png": "[encoded data removed]",
            "text/plain": [
              "<Figure size 432x288 with 100 Axes>"
            ]
          },
          "metadata": {
            "tags": []
          }
        }
      ]
    },
    {
      "cell_type": "code",
      "metadata": {
        "id": "TwA8EYJhgSjB",
        "colab_type": "code",
        "colab": {}
      },
      "source": [
        "# Recast labels from string to integer\n",
        "y = y.astype(np.uint8)"
      ],
      "execution_count": 0,
      "outputs": []
    },
    {
      "cell_type": "markdown",
      "metadata": {
        "id": "S7fpR0F2i5Mr",
        "colab_type": "text"
      },
      "source": [
        "Seperate the MNIST data into the training set (first 60,000 images) and the test set (last 10,000 images).  No peaking at the test set allowed, even by humans.\n",
        "\n",
        "Note: the MNIST data is already broken into these training and test sets.  Further, the data is already shuffled in a random order. \n",
        "\n"
      ]
    },
    {
      "cell_type": "code",
      "metadata": {
        "id": "ZWJXjemFiwGa",
        "colab_type": "code",
        "colab": {}
      },
      "source": [
        "X_train, X_test, y_train, y_test = X[:60000], X[60000:], y[:60000], y[60000:]"
      ],
      "execution_count": 0,
      "outputs": []
    },
    {
      "cell_type": "markdown",
      "metadata": {
        "id": "9eU6FOwajzm4",
        "colab_type": "text"
      },
      "source": [
        "## Training a Binary Classifier\n",
        "Goal is to detect a single digit (say, 5 & not-5). "
      ]
    },
    {
      "cell_type": "code",
      "metadata": {
        "id": "45iMn6PBjuTO",
        "colab_type": "code",
        "colab": {}
      },
      "source": [
        "y_train_5 = (y_train==5)\n",
        "y_test_5 = (y_test==5)"
      ],
      "execution_count": 0,
      "outputs": []
    },
    {
      "cell_type": "code",
      "metadata": {
        "id": "bYOA3S3okKmT",
        "colab_type": "code",
        "outputId": "6bbda9a0-95c4-4bf0-e1ae-bcce1ba80679",
        "colab": {
          "base_uri": "https://localhost:8080/",
          "height": 127
        }
      },
      "source": [
        "# Stochastic Gradient Descent (SGD) classifier\n",
        "from sklearn.linear_model import SGDClassifier\n",
        "\n",
        "sgd_clf = SGDClassifier(random_state=42)      # set random state for reproducible results since SGD classifier relies on randomness (use random_state = 42 to get same results as comments)\n",
        "sgd_clf.fit(X_train, y_train_5)"
      ],
      "execution_count": 11,
      "outputs": [
        {
          "output_type": "execute_result",
          "data": {
            "text/plain": [
              "SGDClassifier(alpha=0.0001, average=False, class_weight=None,\n",
              "              early_stopping=False, epsilon=0.1, eta0=0.0, fit_intercept=True,\n",
              "              l1_ratio=0.15, learning_rate='optimal', loss='hinge',\n",
              "              max_iter=1000, n_iter_no_change=5, n_jobs=None, penalty='l2',\n",
              "              power_t=0.5, random_state=42, shuffle=True, tol=0.001,\n",
              "              validation_fraction=0.1, verbose=0, warm_start=False)"
            ]
          },
          "metadata": {
            "tags": []
          },
          "execution_count": 11
        }
      ]
    },
    {
      "cell_type": "code",
      "metadata": {
        "id": "hJQuV70nkeKp",
        "colab_type": "code",
        "outputId": "7a0a2efa-0734-467f-9d5b-e70f06c30c3c",
        "colab": {
          "base_uri": "https://localhost:8080/",
          "height": 35
        }
      },
      "source": [
        "# See what the SGD Classifier detects for the first image (we know it is a 5)\n",
        "sgd_clf.predict([X[0]])"
      ],
      "execution_count": 12,
      "outputs": [
        {
          "output_type": "execute_result",
          "data": {
            "text/plain": [
              "array([ True])"
            ]
          },
          "metadata": {
            "tags": []
          },
          "execution_count": 12
        }
      ]
    },
    {
      "cell_type": "markdown",
      "metadata": {
        "id": "c6AxbEVrl-gJ",
        "colab_type": "text"
      },
      "source": [
        "## Performance Measures\n",
        "### Cross Validation"
      ]
    },
    {
      "cell_type": "code",
      "metadata": {
        "id": "zvlb9GnulSZa",
        "colab_type": "code",
        "colab": {}
      },
      "source": [
        "# K-fold Cross Validation\n",
        "from sklearn.model_selection import cross_val_score"
      ],
      "execution_count": 0,
      "outputs": []
    },
    {
      "cell_type": "code",
      "metadata": {
        "id": "iyko3SZ8mQIz",
        "colab_type": "code",
        "outputId": "7337b237-c64a-48a5-a69b-b42632e36c88",
        "colab": {
          "base_uri": "https://localhost:8080/",
          "height": 35
        }
      },
      "source": [
        "K = 3               # number of folds\n",
        "cross_val_score(sgd_clf, X_train, y_train_5, cv=K, scoring='accuracy')"
      ],
      "execution_count": 14,
      "outputs": [
        {
          "output_type": "execute_result",
          "data": {
            "text/plain": [
              "array([0.95035, 0.96035, 0.9604 ])"
            ]
          },
          "metadata": {
            "tags": []
          },
          "execution_count": 14
        }
      ]
    },
    {
      "cell_type": "markdown",
      "metadata": {
        "id": "zR9XWYn2mvx_",
        "colab_type": "text"
      },
      "source": [
        "Above 93% accuracy on each fold isn't as impressive as it looks. Remember that the dataset has digits 0, 1, 2,..., 9, so just guessing 'not-5' each time turns out to be pretty good too. "
      ]
    },
    {
      "cell_type": "code",
      "metadata": {
        "id": "eQIm3Qcbmbyf",
        "colab_type": "code",
        "colab": {}
      },
      "source": [
        "from sklearn.base import BaseEstimator\n",
        "\n",
        "class Never5Classifier(BaseEstimator):\n",
        "    def fit(self, X, y=None):\n",
        "        return self\n",
        "    def predict(self, X):\n",
        "        return np.zeros((len(X),1), dtype=bool)"
      ],
      "execution_count": 0,
      "outputs": []
    },
    {
      "cell_type": "code",
      "metadata": {
        "id": "zze_jbrKnbTq",
        "colab_type": "code",
        "colab": {}
      },
      "source": [
        "never_5_clf = Never5Classifier()"
      ],
      "execution_count": 0,
      "outputs": []
    },
    {
      "cell_type": "code",
      "metadata": {
        "id": "7-3foTY5nfv0",
        "colab_type": "code",
        "outputId": "2248654f-a896-4c52-fd4d-bb6d398c6828",
        "colab": {
          "base_uri": "https://localhost:8080/",
          "height": 35
        }
      },
      "source": [
        "cross_val_score(never_5_clf, X_train, y_train_5, cv=K, scoring = 'accuracy')"
      ],
      "execution_count": 17,
      "outputs": [
        {
          "output_type": "execute_result",
          "data": {
            "text/plain": [
              "array([0.91125, 0.90855, 0.90915])"
            ]
          },
          "metadata": {
            "tags": []
          },
          "execution_count": 17
        }
      ]
    },
    {
      "cell_type": "markdown",
      "metadata": {
        "id": "OX5cRyhonrbz",
        "colab_type": "text"
      },
      "source": [
        "Key Takeaway: Don't use **accuracy** for skewed datesets where some classes are much more frequent than others.  Here, the 'not-5' class is much more frequent than the '5' class.  "
      ]
    },
    {
      "cell_type": "markdown",
      "metadata": {
        "id": "Zm3WT05_oApY",
        "colab_type": "text"
      },
      "source": [
        "### Confusion Matrix"
      ]
    },
    {
      "cell_type": "code",
      "metadata": {
        "id": "F-yuKit5noUo",
        "colab_type": "code",
        "colab": {}
      },
      "source": [
        "from sklearn.model_selection import cross_val_predict"
      ],
      "execution_count": 0,
      "outputs": []
    },
    {
      "cell_type": "code",
      "metadata": {
        "id": "LdISmq87pEdC",
        "colab_type": "code",
        "colab": {}
      },
      "source": [
        "y_train_pred = cross_val_predict(sgd_clf, X_train, y_train_5, cv=3) "
      ],
      "execution_count": 0,
      "outputs": []
    },
    {
      "cell_type": "code",
      "metadata": {
        "id": "Y06wHhi6on4j",
        "colab_type": "code",
        "colab": {}
      },
      "source": [
        "from sklearn.metrics import confusion_matrix"
      ],
      "execution_count": 0,
      "outputs": []
    },
    {
      "cell_type": "code",
      "metadata": {
        "id": "tpay2_4KovDH",
        "colab_type": "code",
        "outputId": "e66c5d1a-be20-43a4-ed90-6e483d3d7d30",
        "colab": {
          "base_uri": "https://localhost:8080/",
          "height": 54
        }
      },
      "source": [
        "# Confusion matrix\n",
        "#   first row negative class: not-5s      TN | FP \n",
        "#   second row class: 5s                  FN | TP\n",
        "confusion_matrix(y_train_5, y_train_pred)       "
      ],
      "execution_count": 21,
      "outputs": [
        {
          "output_type": "execute_result",
          "data": {
            "text/plain": [
              "array([[53892,   687],\n",
              "       [ 1891,  3530]])"
            ]
          },
          "metadata": {
            "tags": []
          },
          "execution_count": 21
        }
      ]
    },
    {
      "cell_type": "code",
      "metadata": {
        "id": "r06BPkFupbdm",
        "colab_type": "code",
        "outputId": "0d5cf36e-bc70-45dc-b0a8-98c25a171b14",
        "colab": {
          "base_uri": "https://localhost:8080/",
          "height": 54
        }
      },
      "source": [
        "# What perfection looks like\n",
        "y_train_perfect_predictions = y_train_5\n",
        "confusion_matrix(y_train_5, y_train_perfect_predictions)"
      ],
      "execution_count": 22,
      "outputs": [
        {
          "output_type": "execute_result",
          "data": {
            "text/plain": [
              "array([[54579,     0],\n",
              "       [    0,  5421]])"
            ]
          },
          "metadata": {
            "tags": []
          },
          "execution_count": 22
        }
      ]
    },
    {
      "cell_type": "markdown",
      "metadata": {
        "id": "rHj_NAkgq7jT",
        "colab_type": "text"
      },
      "source": [
        "### Precision & Recall\n",
        "\n",
        "**Precision** = TP / (TP + FP)<br>\n",
        "Accuracy of the positive predictions\n",
        "\n",
        "+----------------------------------------------+\n",
        "\n",
        "**Recall** = TP / (TP + FN)<br>\n",
        "Ratio of positive instances that are correctly detected<br>\n",
        "AKA *sensitivity*, AKA *true positive rate* (TPR)"
      ]
    },
    {
      "cell_type": "code",
      "metadata": {
        "id": "WUWKcYPnq-Ta",
        "colab_type": "code",
        "colab": {}
      },
      "source": [
        "from sklearn.metrics import precision_score, recall_score"
      ],
      "execution_count": 0,
      "outputs": []
    },
    {
      "cell_type": "code",
      "metadata": {
        "id": "BjgIJU0mslwJ",
        "colab_type": "code",
        "outputId": "fb1ec626-47e7-4054-c60c-6926553f6008",
        "colab": {
          "base_uri": "https://localhost:8080/",
          "height": 35
        }
      },
      "source": [
        "# Accuracy when it claims an image is a 5\n",
        "precision_score(y_train_5, y_train_pred)    # == 4096 / (4096 + 1522)"
      ],
      "execution_count": 24,
      "outputs": [
        {
          "output_type": "execute_result",
          "data": {
            "text/plain": [
              "0.8370879772350012"
            ]
          },
          "metadata": {
            "tags": []
          },
          "execution_count": 24
        }
      ]
    },
    {
      "cell_type": "code",
      "metadata": {
        "id": "QiEehWY8stBu",
        "colab_type": "code",
        "outputId": "4457e075-d831-483b-883f-c27436fa7fa8",
        "colab": {
          "base_uri": "https://localhost:8080/",
          "height": 35
        }
      },
      "source": [
        "# Percent of 5's it detects\n",
        "recall_score(y_train_5, y_train_pred)   # == 4096 / (4096 + 1325)"
      ],
      "execution_count": 25,
      "outputs": [
        {
          "output_type": "execute_result",
          "data": {
            "text/plain": [
              "0.6511713705958311"
            ]
          },
          "metadata": {
            "tags": []
          },
          "execution_count": 25
        }
      ]
    },
    {
      "cell_type": "markdown",
      "metadata": {
        "id": "63wkT4Ziufm6",
        "colab_type": "text"
      },
      "source": [
        "**F<sub>1</sub> score:** harmonic mean penalizes low values so this unifies both metrics (precision and recall) but requires high scores of both to get high F<sub>1</sub> score. \n",
        "\n",
        "F<sub>1</sub> = 2 / ( (1/precision) + (1/recall) )<br>\n",
        "              = 2 x (precision x recall) / (precision + recall)<br>\n",
        "              = TP / (TP + ((FN+FP)/2))"
      ]
    },
    {
      "cell_type": "code",
      "metadata": {
        "id": "zLy_Rd8Rt_Ua",
        "colab_type": "code",
        "colab": {}
      },
      "source": [
        "from sklearn.metrics import f1_score"
      ],
      "execution_count": 0,
      "outputs": []
    },
    {
      "cell_type": "code",
      "metadata": {
        "id": "_QH3vox8vmnR",
        "colab_type": "code",
        "outputId": "56d7f467-6dbf-41fa-857a-74536c5e9eef",
        "colab": {
          "base_uri": "https://localhost:8080/",
          "height": 35
        }
      },
      "source": [
        "f1_score(y_train_5, y_train_pred)"
      ],
      "execution_count": 27,
      "outputs": [
        {
          "output_type": "execute_result",
          "data": {
            "text/plain": [
              "0.7325171197343846"
            ]
          },
          "metadata": {
            "tags": []
          },
          "execution_count": 27
        }
      ]
    },
    {
      "cell_type": "markdown",
      "metadata": {
        "id": "SKn0oyjjvxLy",
        "colab_type": "text"
      },
      "source": [
        "**Key Takeaway:**  The F<sub>1</sub> score favors classifiers that have similar precision and recall.  But sometimes you might care more about one or the other depending on the application."
      ]
    },
    {
      "cell_type": "markdown",
      "metadata": {
        "id": "lCdFDNtTwGhV",
        "colab_type": "text"
      },
      "source": [
        "**Key Takeaway: Precision/Recall tradeoff** -- You can't have it both ways. Increasing precision reduces recall, and vice versa.  "
      ]
    },
    {
      "cell_type": "markdown",
      "metadata": {
        "id": "y16154IfH-Nw",
        "colab_type": "text"
      },
      "source": [
        "### Precision/Recall Trade-off"
      ]
    },
    {
      "cell_type": "code",
      "metadata": {
        "id": "uTeAAFa9vsDB",
        "colab_type": "code",
        "colab": {}
      },
      "source": [
        "y_scores = sgd_clf.decision_function([some_digit])"
      ],
      "execution_count": 0,
      "outputs": []
    },
    {
      "cell_type": "code",
      "metadata": {
        "id": "pFdk7SeoIL0U",
        "colab_type": "code",
        "colab": {
          "base_uri": "https://localhost:8080/",
          "height": 35
        },
        "outputId": "7f3059fa-7862-4531-a47b-dcc365ef6872"
      },
      "source": [
        "y_scores"
      ],
      "execution_count": 31,
      "outputs": [
        {
          "output_type": "execute_result",
          "data": {
            "text/plain": [
              "array([2164.22030239])"
            ]
          },
          "metadata": {
            "tags": []
          },
          "execution_count": 31
        }
      ]
    },
    {
      "cell_type": "code",
      "metadata": {
        "id": "s8-0EpAEIYnP",
        "colab_type": "code",
        "colab": {}
      },
      "source": [
        "threshold = 0     # Default for SGDClassifier\n",
        "y_some_digit_pred = (y_scores > threshold)"
      ],
      "execution_count": 0,
      "outputs": []
    },
    {
      "cell_type": "code",
      "metadata": {
        "id": "ODNmXcu7IkYg",
        "colab_type": "code",
        "colab": {
          "base_uri": "https://localhost:8080/",
          "height": 35
        },
        "outputId": "9f200944-88b2-4e4f-cd30-c434788691b7"
      },
      "source": [
        "# Raise Threshold\n",
        "threshold = 8000\n",
        "y_some_digit_pred = (y_scores > threshold)\n",
        "y_some_digit_pred"
      ],
      "execution_count": 34,
      "outputs": [
        {
          "output_type": "execute_result",
          "data": {
            "text/plain": [
              "array([False])"
            ]
          },
          "metadata": {
            "tags": []
          },
          "execution_count": 34
        }
      ]
    },
    {
      "cell_type": "code",
      "metadata": {
        "id": "SwbHv0aTIoXb",
        "colab_type": "code",
        "colab": {}
      },
      "source": [
        "# Look at decision scores instead of predictions\n",
        "y_scores = cross_val_predict(sgd_clf, X_train, y_train_5, cv=3, method = 'decision_function')"
      ],
      "execution_count": 0,
      "outputs": []
    },
    {
      "cell_type": "code",
      "metadata": {
        "id": "PTsecn8WJaUm",
        "colab_type": "code",
        "colab": {}
      },
      "source": [
        "from sklearn.metrics import precision_recall_curve\n",
        "\n",
        "precisions, recalls, thresholds = precision_recall_curve(y_train_5, y_scores)"
      ],
      "execution_count": 0,
      "outputs": []
    },
    {
      "cell_type": "code",
      "metadata": {
        "id": "ePhN_TCwJnNJ",
        "colab_type": "code",
        "colab": {}
      },
      "source": [
        "def plot_precision_recall_vs_threshold(precisions, recalls, thresholds):\n",
        "    plt.plot(thresholds, precisions[:-1],'b--', label = 'Precision')\n",
        "    plt.plot(thresholds, recalls[:-1],'g-', label = 'Recall')\n",
        "    plt.legend()\n",
        "    plt.xlabel('Threshold')\n",
        "    plt.grid(b=False, axis = 'both', which='major', color='#666666', linestyle='-')"
      ],
      "execution_count": 0,
      "outputs": []
    },
    {
      "cell_type": "code",
      "metadata": {
        "id": "9-naFsxaKF8i",
        "colab_type": "code",
        "colab": {
          "base_uri": "https://localhost:8080/",
          "height": 279
        },
        "outputId": "64ffbd92-363d-44a7-fe5c-ec5a74f7e949"
      },
      "source": [
        "plot_precision_recall_vs_threshold(precisions, recalls, thresholds)\n",
        "plt.xlim((-50000,50000))\n",
        "plt.show()\n"
      ],
      "execution_count": 55,
      "outputs": [
        {
          "output_type": "display_data",
          "data": {
            "image/png": "[encoded data removed]",
            "text/plain": [
              "<Figure size 432x288 with 1 Axes>"
            ]
          },
          "metadata": {
            "tags": []
          }
        }
      ]
    },
    {
      "cell_type": "code",
      "metadata": {
        "id": "R2aQBjoEKMG1",
        "colab_type": "code",
        "colab": {}
      },
      "source": [
        "def plot_precision_vs_recall(precisions, recalls):\n",
        "    plt.plot(precisions[:-1], recalls[:-1],'k-')\n",
        "    plt.xlabel('Recall')\n",
        "    plt.ylabel('Precision')\n",
        "    plt.grid(b=False, axis = 'both', which='major', color='#666666', linestyle='-')"
      ],
      "execution_count": 0,
      "outputs": []
    },
    {
      "cell_type": "code",
      "metadata": {
        "id": "H_SE8R0aL0L6",
        "colab_type": "code",
        "colab": {
          "base_uri": "https://localhost:8080/",
          "height": 279
        },
        "outputId": "ad5f8dbe-009b-4f20-b700-e7d62bc12793"
      },
      "source": [
        "plot_precision_vs_recall(precisions,recalls)\n",
        "plt.plot(0.48,0.90,'ro')\n",
        "plt.show()"
      ],
      "execution_count": 73,
      "outputs": [
        {
          "output_type": "display_data",
          "data": {
            "image/png": "[encoded data removed]",
            "text/plain": [
              "<Figure size 432x288 with 1 Axes>"
            ]
          },
          "metadata": {
            "tags": []
          }
        }
      ]
    },
    {
      "cell_type": "code",
      "metadata": {
        "id": "Zc17Th34L8BO",
        "colab_type": "code",
        "colab": {}
      },
      "source": [
        "# Find lowest threshold that still gives at least 90% precision\n",
        "threshold_90_precision = thresholds[np.argmax(precisions >= 0.90)]  # ~7816\n",
        "\n",
        "# Make predictions on the training set\n",
        "y_train_pred_90 = (y_scores >= threshold_90_precision)"
      ],
      "execution_count": 0,
      "outputs": []
    },
    {
      "cell_type": "code",
      "metadata": {
        "id": "EH4k2w_CMZzM",
        "colab_type": "code",
        "colab": {
          "base_uri": "https://localhost:8080/",
          "height": 35
        },
        "outputId": "7216a11e-d5dd-4d54-9fe5-7ac39fb513ea"
      },
      "source": [
        "# Check these predictions' precision & recall\n",
        "print('Precision: %0.4f | Recall: %0.4f ' \n",
        "      % (precision_score(y_train_5, y_train_pred_90),recall_score(y_train_5, y_train_pred_90)))"
      ],
      "execution_count": 68,
      "outputs": [
        {
          "output_type": "stream",
          "text": [
            "Precision: 0.9000 | Recall: 0.4800 \n"
          ],
          "name": "stdout"
        }
      ]
    },
    {
      "cell_type": "markdown",
      "metadata": {
        "id": "gLMSaKLsOwh7",
        "colab_type": "text"
      },
      "source": [
        "### ROC Curve\n",
        "ROC: Receiving Operating Characteristic<br>\n",
        "True Positive Rate (Recall) vs False Positive Rate<br>\n",
        "FPR: ration of negative instances that are incorrectly classified as positive. <br>\n",
        "FPR = 1 - TNR.  "
      ]
    },
    {
      "cell_type": "markdown",
      "metadata": {
        "id": "YAfoDOZNPV1R",
        "colab_type": "text"
      },
      "source": [
        "TNR = *specifity*<br>\n",
        "ROC Curve:  plots *sensitivity* (recall) vs 1-*specificity*"
      ]
    },
    {
      "cell_type": "code",
      "metadata": {
        "id": "cN6sx7sEM9I-",
        "colab_type": "code",
        "colab": {}
      },
      "source": [
        "from sklearn.metrics import roc_curve\n",
        "\n",
        "fpr, tpr, thresholds = roc_curve(y_train_5, y_scores)"
      ],
      "execution_count": 0,
      "outputs": []
    },
    {
      "cell_type": "code",
      "metadata": {
        "id": "HX5o1Fc0Psp9",
        "colab_type": "code",
        "colab": {}
      },
      "source": [
        "def plot_roc_curve(fpr, tpr, label=None):\n",
        "    plt.plot(fpr, tpr, linewidth=2, label=label)\n",
        "    plt.plot([0,1],[0,1],'k--')\n",
        "    plt.xlabel('False Positive Rate')\n",
        "    plt.ylabel('True Positive Rate (Recall)')\n",
        "    plt.grid(b=False, axis = 'both', which='major', color='#666666', linestyle='-')"
      ],
      "execution_count": 0,
      "outputs": []
    },
    {
      "cell_type": "code",
      "metadata": {
        "id": "e8urx83tQCzN",
        "colab_type": "code",
        "colab": {
          "base_uri": "https://localhost:8080/",
          "height": 279
        },
        "outputId": "f6e78999-379c-4dd2-d7ea-04430b77809d"
      },
      "source": [
        "plot_roc_curve(fpr,tpr)\n",
        "plt.show()"
      ],
      "execution_count": 84,
      "outputs": [
        {
          "output_type": "display_data",
          "data": {
            "image/png": "[encoded data removed]",
            "text/plain": [
              "<Figure size 432x288 with 1 Axes>"
            ]
          },
          "metadata": {
            "tags": []
          }
        }
      ]
    },
    {
      "cell_type": "code",
      "metadata": {
        "id": "h38J3T1gQHG-",
        "colab_type": "code",
        "colab": {
          "base_uri": "https://localhost:8080/",
          "height": 35
        },
        "outputId": "51445270-53ac-4ea2-a9a7-bcd8e820e8a4"
      },
      "source": [
        "# ROC Area Under the Curve (AUC)\n",
        "from sklearn.metrics import roc_auc_score\n",
        "\n",
        "roc_auc_score(y_train_5, y_scores)"
      ],
      "execution_count": 85,
      "outputs": [
        {
          "output_type": "execute_result",
          "data": {
            "text/plain": [
              "0.9604938554008616"
            ]
          },
          "metadata": {
            "tags": []
          },
          "execution_count": 85
        }
      ]
    },
    {
      "cell_type": "markdown",
      "metadata": {
        "id": "gpdEHV-jQ-6E",
        "colab_type": "text"
      },
      "source": [
        "**Key Takeaways:**\n",
        "*   Use Precision-Recall curve when positive class is rare or when you care more about false positives than false negatives. \n",
        "*   Otherwise, use ROC curve (and ROC AUC score). \n",
        "\n"
      ]
    },
    {
      "cell_type": "markdown",
      "metadata": {
        "id": "iIOSyBLpRetC",
        "colab_type": "text"
      },
      "source": [
        "### Compare to alternate classifier\n",
        "Random Forest"
      ]
    },
    {
      "cell_type": "code",
      "metadata": {
        "id": "V3LJcOgQQ5cS",
        "colab_type": "code",
        "colab": {}
      },
      "source": [
        "from sklearn.ensemble import RandomForestClassifier\n",
        "\n",
        "forest_clf = RandomForestClassifier(random_state = 42)\n",
        "y_probas_forest = cross_val_predict(forest_clf, X_train, y_train_5, cv=3, method='predict_proba')"
      ],
      "execution_count": 0,
      "outputs": []
    },
    {
      "cell_type": "code",
      "metadata": {
        "id": "vujvqKDHR_oM",
        "colab_type": "code",
        "colab": {}
      },
      "source": [
        "y_scores_forest = y_probas_forest[:,1]    # score = proba of positive class\n",
        "fpr_forest, tpr_forest, thresholds_forest = roc_curve(y_train_5, y_scores_forest)"
      ],
      "execution_count": 0,
      "outputs": []
    },
    {
      "cell_type": "code",
      "metadata": {
        "id": "HHpKnbGcSgSI",
        "colab_type": "code",
        "colab": {
          "base_uri": "https://localhost:8080/",
          "height": 279
        },
        "outputId": "0630b206-3323-42cf-c70c-91cb6b279ad4"
      },
      "source": [
        "plt.plot(fpr, tpr, \"r:\", label = 'SGD')\n",
        "plot_roc_curve(fpr_forest, tpr_forest, \"Random Forest\")\n",
        "plt.legend(loc='lower right')\n",
        "plt.show()"
      ],
      "execution_count": 92,
      "outputs": [
        {
          "output_type": "display_data",
          "data": {
            "image/png": "[encoded data removed]",
            "text/plain": [
              "<Figure size 432x288 with 1 Axes>"
            ]
          },
          "metadata": {
            "tags": []
          }
        }
      ]
    },
    {
      "cell_type": "code",
      "metadata": {
        "id": "ZL6UeSzlS3IF",
        "colab_type": "code",
        "colab": {
          "base_uri": "https://localhost:8080/",
          "height": 35
        },
        "outputId": "1c051761-49bd-4e6b-a3aa-8b59916d8949"
      },
      "source": [
        "roc_auc_score(y_train_5, y_scores_forest)"
      ],
      "execution_count": 93,
      "outputs": [
        {
          "output_type": "execute_result",
          "data": {
            "text/plain": [
              "0.9983436731328145"
            ]
          },
          "metadata": {
            "tags": []
          },
          "execution_count": 93
        }
      ]
    },
    {
      "cell_type": "markdown",
      "metadata": {
        "id": "7TMs6kWWUV2y",
        "colab_type": "text"
      },
      "source": [
        "## Multiclass Classification\n",
        "*    One-vs-One Strategy (requires *N* x (N-1)/2 classifiers\n",
        "*    One-vs-All Strategy\n",
        "\n",
        "Scikit-Learn detects when you try to use a binary classification algorithm for a multiclassification task and selects the strategy based on the algorithm. "
      ]
    },
    {
      "cell_type": "code",
      "metadata": {
        "id": "TdXGZrqGTQxu",
        "colab_type": "code",
        "colab": {}
      },
      "source": [
        "from sklearn.svm import SVC"
      ],
      "execution_count": 0,
      "outputs": []
    },
    {
      "cell_type": "code",
      "metadata": {
        "id": "FzCgHbXiUUKb",
        "colab_type": "code",
        "colab": {}
      },
      "source": [
        "svm_clf = SVC()"
      ],
      "execution_count": 0,
      "outputs": []
    },
    {
      "cell_type": "code",
      "metadata": {
        "id": "7_PMpyT6UdrF",
        "colab_type": "code",
        "colab": {
          "base_uri": "https://localhost:8080/",
          "height": 90
        },
        "outputId": "f50ef63f-bb80-4214-f823-519c7315e63a"
      },
      "source": [
        "# Train a Support Vector Machine (SVM) on the full MNIST training set\n",
        "# Under the hood, it is using one-vs-one strategy due to the SVM algorithm\n",
        "svm_clf.fit(X_train, y_train)   # y_train, not y_train_5"
      ],
      "execution_count": 99,
      "outputs": [
        {
          "output_type": "execute_result",
          "data": {
            "text/plain": [
              "SVC(C=1.0, break_ties=False, cache_size=200, class_weight=None, coef0=0.0,\n",
              "    decision_function_shape='ovr', degree=3, gamma='scale', kernel='rbf',\n",
              "    max_iter=-1, probability=False, random_state=None, shrinking=True,\n",
              "    tol=0.001, verbose=False)"
            ]
          },
          "metadata": {
            "tags": []
          },
          "execution_count": 99
        }
      ]
    },
    {
      "cell_type": "code",
      "metadata": {
        "id": "DCAmlbz1UqzM",
        "colab_type": "code",
        "colab": {
          "base_uri": "https://localhost:8080/",
          "height": 35
        },
        "outputId": "4aae5387-2416-4d15-e969-849d535beea6"
      },
      "source": [
        "svm_clf.predict([some_digit])"
      ],
      "execution_count": 100,
      "outputs": [
        {
          "output_type": "execute_result",
          "data": {
            "text/plain": [
              "array([5], dtype=uint8)"
            ]
          },
          "metadata": {
            "tags": []
          },
          "execution_count": 100
        }
      ]
    },
    {
      "cell_type": "code",
      "metadata": {
        "id": "nLGZPj2DWZtI",
        "colab_type": "code",
        "colab": {
          "base_uri": "https://localhost:8080/",
          "height": 54
        },
        "outputId": "a1af3ef1-f6d5-4053-ee3b-4528fde7693f"
      },
      "source": [
        "some_digit_scores = svm_clf.decision_function([some_digit])\n",
        "some_digit_scores"
      ],
      "execution_count": 101,
      "outputs": [
        {
          "output_type": "execute_result",
          "data": {
            "text/plain": [
              "array([[ 1.72501977,  2.72809088,  7.2510018 ,  8.3076379 , -0.31087254,\n",
              "         9.3132482 ,  1.70975103,  2.76765202,  6.23049537,  4.84771048]])"
            ]
          },
          "metadata": {
            "tags": []
          },
          "execution_count": 101
        }
      ]
    },
    {
      "cell_type": "code",
      "metadata": {
        "id": "tFOmNMtGWjPz",
        "colab_type": "code",
        "colab": {
          "base_uri": "https://localhost:8080/",
          "height": 35
        },
        "outputId": "5db2fb81-7192-47a1-c90f-3ff35590d5bc"
      },
      "source": [
        "np.argmax(some_digit_scores)   "
      ],
      "execution_count": 102,
      "outputs": [
        {
          "output_type": "execute_result",
          "data": {
            "text/plain": [
              "5"
            ]
          },
          "metadata": {
            "tags": []
          },
          "execution_count": 102
        }
      ]
    },
    {
      "cell_type": "code",
      "metadata": {
        "id": "yTmmYEPsWnUv",
        "colab_type": "code",
        "colab": {
          "base_uri": "https://localhost:8080/",
          "height": 35
        },
        "outputId": "20e582c3-b701-4608-8e0c-93d0f4ad98c9"
      },
      "source": [
        "svm_clf.classes_"
      ],
      "execution_count": 104,
      "outputs": [
        {
          "output_type": "execute_result",
          "data": {
            "text/plain": [
              "array([0, 1, 2, 3, 4, 5, 6, 7, 8, 9], dtype=uint8)"
            ]
          },
          "metadata": {
            "tags": []
          },
          "execution_count": 104
        }
      ]
    },
    {
      "cell_type": "markdown",
      "metadata": {
        "id": "SPDkxx2XW9n6",
        "colab_type": "text"
      },
      "source": [
        "Can force Scikit-Learn to use a specific strategy"
      ]
    },
    {
      "cell_type": "code",
      "metadata": {
        "id": "SYsFHM6QW0Mb",
        "colab_type": "code",
        "colab": {}
      },
      "source": [
        "from sklearn.multiclass import OneVsRestClassifier  "
      ],
      "execution_count": 0,
      "outputs": []
    },
    {
      "cell_type": "code",
      "metadata": {
        "id": "FmsZsV06XHnf",
        "colab_type": "code",
        "colab": {}
      },
      "source": [
        "ovr_clf = OneVsRestClassifier(SVC())"
      ],
      "execution_count": 0,
      "outputs": []
    },
    {
      "cell_type": "code",
      "metadata": {
        "id": "pyUcZD9fXM4U",
        "colab_type": "code",
        "colab": {}
      },
      "source": [
        "ovr_clf.fit(X_train, y_train)"
      ],
      "execution_count": 0,
      "outputs": []
    },
    {
      "cell_type": "code",
      "metadata": {
        "id": "oOIuP63TXQ-Q",
        "colab_type": "code",
        "colab": {}
      },
      "source": [
        "ovr_clf.predict([some_digit])"
      ],
      "execution_count": 0,
      "outputs": []
    },
    {
      "cell_type": "code",
      "metadata": {
        "id": "iZnDUYmDXXfL",
        "colab_type": "code",
        "colab": {}
      },
      "source": [
        "len(ovr.clf.estimators_)"
      ],
      "execution_count": 0,
      "outputs": []
    },
    {
      "cell_type": "markdown",
      "metadata": {
        "id": "Cxyaj-zsXb0m",
        "colab_type": "text"
      },
      "source": [
        "Training a SGDClassifier (or RandomForestClassifier) is just as easy."
      ]
    },
    {
      "cell_type": "code",
      "metadata": {
        "id": "7WECBPsmXmaG",
        "colab_type": "code",
        "colab": {}
      },
      "source": [
        "# SGDClassifiers can directly do multiclass so no OvO or OvR strategy decision needed.\n",
        "sgd_clf.fit(Xtrain, y_train)\n",
        "sgd_clf.predict([some_digit])"
      ],
      "execution_count": 0,
      "outputs": []
    },
    {
      "cell_type": "code",
      "metadata": {
        "id": "tj4YR0yiX57B",
        "colab_type": "code",
        "colab": {}
      },
      "source": [
        "sgd_clf.decision_function([some_digit])"
      ],
      "execution_count": 0,
      "outputs": []
    },
    {
      "cell_type": "code",
      "metadata": {
        "id": "Xgp3HYh8YOK4",
        "colab_type": "code",
        "colab": {}
      },
      "source": [
        "cross_val_score(sgd_clf, X_train, y_train, cv=3, scoring='accuracy')"
      ],
      "execution_count": 0,
      "outputs": []
    },
    {
      "cell_type": "markdown",
      "metadata": {
        "id": "HcQ1w7X0YZvL",
        "colab_type": "text"
      },
      "source": [
        "Simply scaling the inputs will increase the accuracy further. "
      ]
    },
    {
      "cell_type": "code",
      "metadata": {
        "id": "SCr-D0PUYYFl",
        "colab_type": "code",
        "colab": {}
      },
      "source": [
        "from sklearn.preprocessing import StandardScaler\n",
        "\n",
        "scaler = StandardScaler()\n",
        "X_train_scaled = scaler.fit.transform(X_train.astype(np.float64))\n",
        "cross_val_score(sgd_clf, X_train_scaled, y_train, cv=3, scoring = 'accuracy')"
      ],
      "execution_count": 0,
      "outputs": []
    }
  ]
}