{
 "cells": [
  {
   "cell_type": "markdown",
   "metadata": {},
   "source": [
    "# USGS Magnitude 2.5+ Earthquakes in the Past Day\n",
    "Pulls USGC earthquake data from past day"
   ]
  },
  {
   "cell_type": "code",
   "execution_count": 1,
   "metadata": {},
   "outputs": [],
   "source": [
    "import urllib.request \n",
    "import json\n",
    "import numpy as np\n",
    "import pandas as pd\n",
    "import matplotlib.pyplot as plt"
   ]
  },
  {
   "cell_type": "markdown",
   "metadata": {},
   "source": [
    "Get JSON data from URL"
   ]
  },
  {
   "cell_type": "code",
   "execution_count": 2,
   "metadata": {},
   "outputs": [
    {
     "name": "stdout",
     "output_type": "stream",
     "text": [
      "Result code: 200\n",
      "JSON data loaded\n"
     ]
    }
   ],
   "source": [
    "URL = \"http://earthquake.usgs.gov/earthquakes/feed/v1.0/summary/2.5_day.geojson\"\n",
    "\n",
    "webUrl = urllib.request.urlopen(URL)\n",
    "print (\"Result code: \" + str(webUrl.getcode()))\n",
    "if (webUrl.getcode() == 200):\n",
    "    data = webUrl.read()\n",
    "    JSONdata = json.loads(data)\n",
    "    print(\"JSON data loaded\")\n",
    "else:\n",
    "    print(\"Error: cannot retrieve data from server\" + str(webUrl.getcode()))"
   ]
  },
  {
   "cell_type": "code",
   "execution_count": 3,
   "metadata": {},
   "outputs": [
    {
     "name": "stdout",
     "output_type": "stream",
     "text": [
      "USGS Magnitude 2.5+ Earthquakes, Past Day\n",
      "59 events recorded\n"
     ]
    }
   ],
   "source": [
    "if \"title\" in JSONdata[\"metadata\"]:\n",
    "    print(JSONdata[\"metadata\"][\"title\"])\n",
    "count = JSONdata[\"metadata\"][\"count\"];\n",
    "print(str(count) + \" events recorded\")"
   ]
  },
  {
   "cell_type": "code",
   "execution_count": 4,
   "metadata": {},
   "outputs": [],
   "source": [
    "mag = np.zeros(count)\n",
    "\n",
    "loopcounter = 0\n",
    "for i in JSONdata[\"features\"]:\n",
    "    mag[loopcounter] = i[\"properties\"][\"mag\"]\n",
    "    loopcounter += 1"
   ]
  },
  {
   "cell_type": "code",
   "execution_count": 5,
   "metadata": {},
   "outputs": [],
   "source": [
    "data = {'mag': mag}\n",
    "df = pd.DataFrame(data)"
   ]
  },
  {
   "cell_type": "code",
   "execution_count": 6,
   "metadata": {},
   "outputs": [
    {
     "data": {
      "text/plain": [
       "True"
      ]
     },
     "execution_count": 6,
     "metadata": {},
     "output_type": "execute_result"
    }
   ],
   "source": [
    "\"geometry\" in JSONdata[\"features\"][1]"
   ]
  },
  {
   "cell_type": "code",
   "execution_count": 7,
   "metadata": {},
   "outputs": [
    {
     "data": {
      "image/png": "[encoded data removed]",
      "text/plain": [
       "<Figure size 432x288 with 1 Axes>"
      ]
     },
     "metadata": {
      "needs_background": "light"
     },
     "output_type": "display_data"
    }
   ],
   "source": [
    "df[\"mag\"].plot.hist(bins = count, title = \"Magnitude 2.5+ Earthquakes in Past Day\")\n",
    "plt.xlabel('Magnitude');"
   ]
  }
 ],
 "metadata": {
  "kernelspec": {
   "display_name": "Python 3",
   "language": "python",
   "name": "python3"
  },
  "language_info": {
   "codemirror_mode": {
    "name": "ipython",
    "version": 3
   },
   "file_extension": ".py",
   "mimetype": "text/x-python",
   "name": "python",
   "nbconvert_exporter": "python",
   "pygments_lexer": "ipython3",
   "version": "3.7.3"
  }
 },
 "nbformat": 4,
 "nbformat_minor": 2
}
